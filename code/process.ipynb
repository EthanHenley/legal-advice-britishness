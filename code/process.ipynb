{
 "cells": [
  {
   "cell_type": "markdown",
   "metadata": {},
   "source": [
    "# Project 3: Determining Posts' Subreddits\n",
    "\n",
    "### Ethan Henley"
   ]
  },
  {
   "cell_type": "markdown",
   "metadata": {},
   "source": [
    "## Problem Statement\n",
    "\n",
    "To establish potential stakeholders, this model was designed for an **imaginary** client startup: LawChat, an app that intends to connect clients with legal experts on retainer to answer small-potatoes legal questions, preparing for a simultaneous soft launch in both the United States and the United Kingdom. \n",
    "\n",
    "LawChat cannot collect user location data. However, they wish to connect users to legal experts in the correct country. To facilitate this, we have decided to __generate a model to predict whether a legal advice request is coming from America or the United Kingdom based on the title and text of the message.__ \n",
    "\n",
    "We use posts from the subreddits r/legaladvice as a proxy for LawChat advice requests from the United States (though it allows posts from non-Americans) and r/LegalAdviceUK for the United Kingdom."
   ]
  },
  {
   "cell_type": "markdown",
   "metadata": {},
   "source": [
    "## Executive Summary\n",
    "\n",
    "We used a Python script to access the PushShift API and gather data from the subreddits r/legaladvice and r/LegalAdviceUK, and saved that data to a .csv. This data includes post titles and bodies, which we used in our model. We gathered 3000 posts from each Subreddit.\n",
    "\n",
    "We inspected and cleaned this data; accounting for deleted, removed, or otherwise blank posts; processed the text with stemming and word vectorization; and then ran multiple models.\n",
    "\n",
    "Ultimately, we decided that, based on models' accuracy with testing data, our best model was a Multinomial Naive Bayes model. We were also interested in the concept of the Support Vector Machine model, though it was outperformed by the Multinomial Naive Bayes."
   ]
  },
  {
   "cell_type": "markdown",
   "metadata": {},
   "source": [
    "## Contents\n",
    "\n",
    "- [Problem Statement](#Problem-Statement)\n",
    "- [Executive Summary](#Executive-Summary)\n",
    "- [Loading](#Loading)\n",
    "- [Preliminary EDA](#Preliminary-EDA)\n",
    "- [Data Cleaning](#Data-Cleaning)\n",
    "    - [Imputing Nulls and Missing Values](#Imputing-Nulls-and-Missing-Values)\n",
    "    - [Outliers in Numeric Columns](#Outliers-in-Numeric-Columns)\n",
    "    - [Format Target](#Format-Target)\n",
    "    - [Exploratory Data Analysis](#Exploratory-Data-Analysis)\n",
    "    - [EDA on Stemmed Word Vectors](#EDA-on-Stemmed-Word-Vectors)\n",
    "    - [Count Vectorization EDA on Body](#Count-Vectorization-EDA-on-Body)\n",
    "    - [Count Vectorization EDA on Title](#Count-Vectorization-EDA-on-Title)\n",
    "    - [Count Vectorization EDA on Combined](#Count-Vectorization-EDA-on-Combined)\n",
    "    - [Wordcount Caveat](#Wordcount-Caveat)\n",
    "    - [TFIDF Vectorization EDA](#TFIDF-Vectorization-EDA)\n",
    "- [Preprocessing](#Preprocessing)\n",
    "- [Modeling](#Modeling)\n",
    "    - [Baseline Model](#Baseline-Model)\n",
    "    - [Logistic Regression Model](#Logistic-Regression-Model)\n",
    "    - [Multinomial Naive Bayes Model](#Multinomial-Naive-Bayes-Model) *\n",
    "    - [Gaussian Naive Bayes Model](#Gaussian-Naive-Bayes-Model)\n",
    "    - [Support Vector Machine Model](#Support-Vector-Machine-Model)\n",
    "    - [AdaBoost Model](#AdaBoost-Model)\n",
    "    - [$k$-Nearest Neighbors Model](#$k$-Nearest-Neighbors-Model)\n",
    "    - [Bagged Trees Model](#Bagged-Trees-Model)\n",
    "- [Model Selection](#Model-Selection)\n",
    "- [Model Evaluation](#Model-Evaluation)\n",
    "- [Conclusions and Recommendations](#Conclusions-and-Recommendations)\n",
    "- [Materials Used](#Materials-Used)"
   ]
  },
  {
   "cell_type": "markdown",
   "metadata": {},
   "source": [
    "## Loading"
   ]
  },
  {
   "cell_type": "markdown",
   "metadata": {},
   "source": [
    "Import relevant libraries, modules."
   ]
  },
  {
   "cell_type": "code",
   "execution_count": 1,
   "metadata": {},
   "outputs": [],
   "source": [
    "import numpy as np\n",
    "import pandas as pd\n",
    "\n",
    "import matplotlib.pyplot as plt\n",
    "import seaborn as sns\n",
    "\n",
    "from sklearn.feature_extraction.text import CountVectorizer, \\\n",
    "    TfidfVectorizer\n",
    "from sklearn.feature_extraction import stop_words\n",
    "from sklearn.pipeline import Pipeline\n",
    "from sklearn.model_selection import GridSearchCV, train_test_split\n",
    "from sklearn.linear_model import LogisticRegression\n",
    "from sklearn.naive_bayes import MultinomialNB, GaussianNB\n",
    "from sklearn.ensemble import AdaBoostClassifier, BaggingClassifier\n",
    "from sklearn.svm import SVC\n",
    "from sklearn.neighbors.classification import KNeighborsClassifier\n",
    "from sklearn.metrics import confusion_matrix, roc_auc_score\n",
    "\n",
    "import regex as re\n",
    "\n",
    "import time\n",
    "\n",
    "from nltk.tokenize import RegexpTokenizer\n",
    "from nltk.stem import WordNetLemmatizer\n",
    "from nltk.stem.porter import PorterStemmer"
   ]
  },
  {
   "cell_type": "markdown",
   "metadata": {},
   "source": [
    "Read in the data, which was gathered using the Pushshift API for Reddit via the script `scraping.py`."
   ]
  },
  {
   "cell_type": "code",
   "execution_count": 2,
   "metadata": {},
   "outputs": [],
   "source": [
    "df = pd.read_csv('../data/scraped.csv')\n",
    "orig_cols = df.columns"
   ]
  },
  {
   "cell_type": "markdown",
   "metadata": {},
   "source": [
    "## Preliminary EDA"
   ]
  },
  {
   "cell_type": "markdown",
   "metadata": {},
   "source": [
    "Quick look at some of the data."
   ]
  },
  {
   "cell_type": "code",
   "execution_count": 3,
   "metadata": {},
   "outputs": [
    {
     "data": {
      "text/html": [
       "<div>\n",
       "<style scoped>\n",
       "    .dataframe tbody tr th:only-of-type {\n",
       "        vertical-align: middle;\n",
       "    }\n",
       "\n",
       "    .dataframe tbody tr th {\n",
       "        vertical-align: top;\n",
       "    }\n",
       "\n",
       "    .dataframe thead th {\n",
       "        text-align: right;\n",
       "    }\n",
       "</style>\n",
       "<table border=\"1\" class=\"dataframe\">\n",
       "  <thead>\n",
       "    <tr style=\"text-align: right;\">\n",
       "      <th></th>\n",
       "      <th>title</th>\n",
       "      <th>selftext</th>\n",
       "      <th>subreddit</th>\n",
       "      <th>created_utc</th>\n",
       "      <th>author</th>\n",
       "      <th>num_comments</th>\n",
       "      <th>score</th>\n",
       "      <th>is_self</th>\n",
       "      <th>timestamp</th>\n",
       "    </tr>\n",
       "  </thead>\n",
       "  <tbody>\n",
       "    <tr>\n",
       "      <td>0</td>\n",
       "      <td>Balisong Knives in Canada</td>\n",
       "      <td>Is it illegal to keep a balisong knife in cana...</td>\n",
       "      <td>legaladvice</td>\n",
       "      <td>1577558639</td>\n",
       "      <td>HunterCTF</td>\n",
       "      <td>1</td>\n",
       "      <td>1</td>\n",
       "      <td>True</td>\n",
       "      <td>2019-12-28</td>\n",
       "    </tr>\n",
       "    <tr>\n",
       "      <td>1</td>\n",
       "      <td>Need advices don’t know where to go.</td>\n",
       "      <td>Need advices on my case\\n\\nLong story short i ...</td>\n",
       "      <td>legaladvice</td>\n",
       "      <td>1577558685</td>\n",
       "      <td>pinochioo</td>\n",
       "      <td>7</td>\n",
       "      <td>1</td>\n",
       "      <td>True</td>\n",
       "      <td>2019-12-28</td>\n",
       "    </tr>\n",
       "    <tr>\n",
       "      <td>2</td>\n",
       "      <td>AZ - Real Estate: mortgage not covering second...</td>\n",
       "      <td>I just realized when refinancing that I might ...</td>\n",
       "      <td>legaladvice</td>\n",
       "      <td>1577558733</td>\n",
       "      <td>clairvoiaynce</td>\n",
       "      <td>4</td>\n",
       "      <td>1</td>\n",
       "      <td>True</td>\n",
       "      <td>2019-12-28</td>\n",
       "    </tr>\n",
       "    <tr>\n",
       "      <td>3</td>\n",
       "      <td>Friend of mine from Australia</td>\n",
       "      <td>So I friend of mine currently, living with a g...</td>\n",
       "      <td>legaladvice</td>\n",
       "      <td>1577559126</td>\n",
       "      <td>LordOstrik</td>\n",
       "      <td>2</td>\n",
       "      <td>1</td>\n",
       "      <td>True</td>\n",
       "      <td>2019-12-28</td>\n",
       "    </tr>\n",
       "    <tr>\n",
       "      <td>4</td>\n",
       "      <td>Retrieve Files from Webhost</td>\n",
       "      <td>I suppose I need a court order to obtain my fi...</td>\n",
       "      <td>legaladvice</td>\n",
       "      <td>1577559197</td>\n",
       "      <td>stahlgrau</td>\n",
       "      <td>3</td>\n",
       "      <td>1</td>\n",
       "      <td>True</td>\n",
       "      <td>2019-12-28</td>\n",
       "    </tr>\n",
       "  </tbody>\n",
       "</table>\n",
       "</div>"
      ],
      "text/plain": [
       "                                               title  \\\n",
       "0                          Balisong Knives in Canada   \n",
       "1               Need advices don’t know where to go.   \n",
       "2  AZ - Real Estate: mortgage not covering second...   \n",
       "3                      Friend of mine from Australia   \n",
       "4                        Retrieve Files from Webhost   \n",
       "\n",
       "                                            selftext    subreddit  \\\n",
       "0  Is it illegal to keep a balisong knife in cana...  legaladvice   \n",
       "1  Need advices on my case\\n\\nLong story short i ...  legaladvice   \n",
       "2  I just realized when refinancing that I might ...  legaladvice   \n",
       "3  So I friend of mine currently, living with a g...  legaladvice   \n",
       "4  I suppose I need a court order to obtain my fi...  legaladvice   \n",
       "\n",
       "   created_utc         author  num_comments  score  is_self   timestamp  \n",
       "0   1577558639      HunterCTF             1      1     True  2019-12-28  \n",
       "1   1577558685      pinochioo             7      1     True  2019-12-28  \n",
       "2   1577558733  clairvoiaynce             4      1     True  2019-12-28  \n",
       "3   1577559126     LordOstrik             2      1     True  2019-12-28  \n",
       "4   1577559197      stahlgrau             3      1     True  2019-12-28  "
      ]
     },
     "execution_count": 3,
     "metadata": {},
     "output_type": "execute_result"
    }
   ],
   "source": [
    "df.head()"
   ]
  },
  {
   "cell_type": "code",
   "execution_count": 4,
   "metadata": {},
   "outputs": [
    {
     "data": {
      "text/html": [
       "<div>\n",
       "<style scoped>\n",
       "    .dataframe tbody tr th:only-of-type {\n",
       "        vertical-align: middle;\n",
       "    }\n",
       "\n",
       "    .dataframe tbody tr th {\n",
       "        vertical-align: top;\n",
       "    }\n",
       "\n",
       "    .dataframe thead th {\n",
       "        text-align: right;\n",
       "    }\n",
       "</style>\n",
       "<table border=\"1\" class=\"dataframe\">\n",
       "  <thead>\n",
       "    <tr style=\"text-align: right;\">\n",
       "      <th></th>\n",
       "      <th>title</th>\n",
       "      <th>selftext</th>\n",
       "      <th>subreddit</th>\n",
       "      <th>created_utc</th>\n",
       "      <th>author</th>\n",
       "      <th>num_comments</th>\n",
       "      <th>score</th>\n",
       "      <th>is_self</th>\n",
       "      <th>timestamp</th>\n",
       "    </tr>\n",
       "  </thead>\n",
       "  <tbody>\n",
       "    <tr>\n",
       "      <td>5995</td>\n",
       "      <td>HR wants to fire me because I'm depressed</td>\n",
       "      <td>*Sorry in advance for the long post*\\nI have s...</td>\n",
       "      <td>LegalAdviceUK</td>\n",
       "      <td>1565180205</td>\n",
       "      <td>theresajen</td>\n",
       "      <td>11</td>\n",
       "      <td>18</td>\n",
       "      <td>True</td>\n",
       "      <td>2019-08-07</td>\n",
       "    </tr>\n",
       "    <tr>\n",
       "      <td>5996</td>\n",
       "      <td>Co-worker withholding my tips.</td>\n",
       "      <td>I worked on a bar, and left to move to a diffe...</td>\n",
       "      <td>LegalAdviceUK</td>\n",
       "      <td>1565180354</td>\n",
       "      <td>funnywittyusername1</td>\n",
       "      <td>2</td>\n",
       "      <td>3</td>\n",
       "      <td>True</td>\n",
       "      <td>2019-08-07</td>\n",
       "    </tr>\n",
       "    <tr>\n",
       "      <td>5997</td>\n",
       "      <td>Driveway ruined (continuation)</td>\n",
       "      <td>This saga goes on.\\n\\nIn brief: driveway done ...</td>\n",
       "      <td>LegalAdviceUK</td>\n",
       "      <td>1565180557</td>\n",
       "      <td>unappealinghabits</td>\n",
       "      <td>7</td>\n",
       "      <td>3</td>\n",
       "      <td>True</td>\n",
       "      <td>2019-08-07</td>\n",
       "    </tr>\n",
       "    <tr>\n",
       "      <td>5998</td>\n",
       "      <td>Previous employer wants me to settle charges f...</td>\n",
       "      <td>I left my last job at in the first few days of...</td>\n",
       "      <td>LegalAdviceUK</td>\n",
       "      <td>1565181290</td>\n",
       "      <td>TAway7819</td>\n",
       "      <td>3</td>\n",
       "      <td>2</td>\n",
       "      <td>True</td>\n",
       "      <td>2019-08-07</td>\n",
       "    </tr>\n",
       "    <tr>\n",
       "      <td>5999</td>\n",
       "      <td>Do you have to transfer the ownership of a dec...</td>\n",
       "      <td>My stepdad passed away very suddenly a couple ...</td>\n",
       "      <td>LegalAdviceUK</td>\n",
       "      <td>1565181351</td>\n",
       "      <td>stubrador</td>\n",
       "      <td>4</td>\n",
       "      <td>2</td>\n",
       "      <td>True</td>\n",
       "      <td>2019-08-07</td>\n",
       "    </tr>\n",
       "  </tbody>\n",
       "</table>\n",
       "</div>"
      ],
      "text/plain": [
       "                                                  title  \\\n",
       "5995          HR wants to fire me because I'm depressed   \n",
       "5996                     Co-worker withholding my tips.   \n",
       "5997                     Driveway ruined (continuation)   \n",
       "5998  Previous employer wants me to settle charges f...   \n",
       "5999  Do you have to transfer the ownership of a dec...   \n",
       "\n",
       "                                               selftext      subreddit  \\\n",
       "5995  *Sorry in advance for the long post*\\nI have s...  LegalAdviceUK   \n",
       "5996  I worked on a bar, and left to move to a diffe...  LegalAdviceUK   \n",
       "5997  This saga goes on.\\n\\nIn brief: driveway done ...  LegalAdviceUK   \n",
       "5998  I left my last job at in the first few days of...  LegalAdviceUK   \n",
       "5999  My stepdad passed away very suddenly a couple ...  LegalAdviceUK   \n",
       "\n",
       "      created_utc               author  num_comments  score  is_self  \\\n",
       "5995   1565180205           theresajen            11     18     True   \n",
       "5996   1565180354  funnywittyusername1             2      3     True   \n",
       "5997   1565180557    unappealinghabits             7      3     True   \n",
       "5998   1565181290            TAway7819             3      2     True   \n",
       "5999   1565181351            stubrador             4      2     True   \n",
       "\n",
       "       timestamp  \n",
       "5995  2019-08-07  \n",
       "5996  2019-08-07  \n",
       "5997  2019-08-07  \n",
       "5998  2019-08-07  \n",
       "5999  2019-08-07  "
      ]
     },
     "execution_count": 4,
     "metadata": {},
     "output_type": "execute_result"
    }
   ],
   "source": [
    "df.tail()"
   ]
  },
  {
   "cell_type": "markdown",
   "metadata": {},
   "source": [
    "## Data Cleaning"
   ]
  },
  {
   "cell_type": "markdown",
   "metadata": {},
   "source": [
    "### Imputing Nulls and Missing Values\n",
    "\n",
    "Look at types and nulls."
   ]
  },
  {
   "cell_type": "code",
   "execution_count": 5,
   "metadata": {},
   "outputs": [
    {
     "name": "stdout",
     "output_type": "stream",
     "text": [
      "<class 'pandas.core.frame.DataFrame'>\n",
      "RangeIndex: 6000 entries, 0 to 5999\n",
      "Data columns (total 9 columns):\n",
      "title           6000 non-null object\n",
      "selftext        5930 non-null object\n",
      "subreddit       6000 non-null object\n",
      "created_utc     6000 non-null int64\n",
      "author          6000 non-null object\n",
      "num_comments    6000 non-null int64\n",
      "score           6000 non-null int64\n",
      "is_self         6000 non-null bool\n",
      "timestamp       6000 non-null object\n",
      "dtypes: bool(1), int64(3), object(5)\n",
      "memory usage: 381.0+ KB\n"
     ]
    }
   ],
   "source": [
    "df.info()"
   ]
  },
  {
   "cell_type": "markdown",
   "metadata": {},
   "source": [
    "`selftext` has many nulls; these represent empty post bodies, and will be replaced with empty strings."
   ]
  },
  {
   "cell_type": "code",
   "execution_count": 6,
   "metadata": {},
   "outputs": [],
   "source": [
    "df.loc[df['selftext'].isnull(), 'selftext'] = ''"
   ]
  },
  {
   "cell_type": "code",
   "execution_count": 7,
   "metadata": {},
   "outputs": [
    {
     "name": "stdout",
     "output_type": "stream",
     "text": [
      "<class 'pandas.core.frame.DataFrame'>\n",
      "RangeIndex: 6000 entries, 0 to 5999\n",
      "Data columns (total 9 columns):\n",
      "title           6000 non-null object\n",
      "selftext        6000 non-null object\n",
      "subreddit       6000 non-null object\n",
      "created_utc     6000 non-null int64\n",
      "author          6000 non-null object\n",
      "num_comments    6000 non-null int64\n",
      "score           6000 non-null int64\n",
      "is_self         6000 non-null bool\n",
      "timestamp       6000 non-null object\n",
      "dtypes: bool(1), int64(3), object(5)\n",
      "memory usage: 381.0+ KB\n"
     ]
    }
   ],
   "source": [
    "df.info()"
   ]
  },
  {
   "cell_type": "markdown",
   "metadata": {},
   "source": [
    "No more nulls. \n",
    "\n",
    "Any weird/recurring posts?"
   ]
  },
  {
   "cell_type": "code",
   "execution_count": 8,
   "metadata": {
    "scrolled": true
   },
   "outputs": [
    {
     "data": {
      "text/plain": [
       "[removed]                                                                                                                                                                                                                                                                                                                                                                                                                                                                                                                                                                                                                                                                                                                                                                                                                                                                                                                                                                                                                                                                                                                                                                                                                                                                                                                                                                                             152\n",
       "                                                                                                                                                                                                                                                                                                                                                                                                                                                                                                                                                                                                                                                                                                                                                                                                                                                                                                                                                                                                                                                                                                                                                                                                                                                                                                                                                                                                       70\n",
       "[deleted]                                                                                                                                                                                                                                                                                                                                                                                                                                                                                                                                                                                                                                                                                                                                                                                                                                                                                                                                                                                                                                                                                                                                                                                                                                                                                                                                                                                              17\n",
       "So I just bought a house and had a new roof put on yesterday. While they were working, we heard a loud electrical noise and a breaker tripped. We informed the main guy who was unaware went to investigate. He discovered burn marks near an electrical outlet outside. He was upset that his workers did not tell him of the incident and said he would take care of it. From my understanding, the workers plugged a microwave in the outlet to cook lunch which caused it to short or something.\\n\\nI talked to a guy at the roof company on the phone and he said that the earliest he can get an electrician there would be Wednesday. I asked if he was paying for repair and he said it would depend on what the electrician would find.\\n\\nOnce the roof was complete I noticed that the outlet was taken apart by the roofers. There was severe rusting which probably caused the issue, so I’m guessing that the electrician will say that the roofer is not liable.\\n\\nDuring the home inspection, we did notice that the outlet sparked when testing it. The seller said they would not fix it because they did not see a spark.\\n\\nI called my home warranty and they said it would be covered, so I’m not too worried, however, I feel like the roofer should be somewhat responsible since their workers used the plug, but I understand that the situation is tricky. Any advice?      3\n",
       "An employee I hired Is currently trying to sue me for loss of earnings and future earnings for falling over an animal at work. I have 1 witness who says that this didn’t happen and I haveanother member of staff  who completed the accident form with her. Whilst off this employee was fully paid as I felt bad about the injury that occurred at work - would this affect any loss of earnings? She sent me photos of the injury but I never received any sick notes from her although apparently she does have them. The enployee later resigned for commitments to her full time job around 2 months later but did return to work after 2 weeks. The injury was minor and not a long term issue.\\n\\nFirstly: I have not done a ‘proper interview’ with the two staff members what questions would be best to ask.  \\n\\nSecondly: what is my best move here - is it better or worse that I let the employee have full pay whilst off? \\n\\nI am very worried about this so any advice would be greatly appreciated.                                                                                                                                                                                                                                                                                                                                                                                3\n",
       "Name: selftext, dtype: int64"
      ]
     },
     "execution_count": 8,
     "metadata": {},
     "output_type": "execute_result"
    }
   ],
   "source": [
    "df['selftext'].value_counts()[:5]"
   ]
  },
  {
   "cell_type": "code",
   "execution_count": 9,
   "metadata": {},
   "outputs": [
    {
     "data": {
      "text/plain": [
       "(NJ) Roofers used electrical outlet that was bad and caused minor siding damage and breaker to trip.    4\n",
       "Pseudo-bank [Revolut] has frozen my last salary deposit. Possible actions?                              3\n",
       "Punishment advice                                                                                       3\n",
       "Going on 3 months' vacation. Can we pay mortgage 3 months in advance?                                   3\n",
       "Please help                                                                                             2\n",
       "Name: title, dtype: int64"
      ]
     },
     "execution_count": 9,
     "metadata": {},
     "output_type": "execute_result"
    }
   ],
   "source": [
    "df['title'].value_counts()[:5]"
   ]
  },
  {
   "cell_type": "markdown",
   "metadata": {},
   "source": [
    "Replace `'[removed]'` and `'[deleted]'` with an empty string as well."
   ]
  },
  {
   "cell_type": "code",
   "execution_count": 10,
   "metadata": {},
   "outputs": [],
   "source": [
    "df.loc[(df['selftext'] == '[removed]') | (df['selftext'] == '[deleted]'),\n",
    "       'selftext'] = ''"
   ]
  },
  {
   "cell_type": "markdown",
   "metadata": {},
   "source": [
    "We do not remove empty-bodied posts entirely, because their titles are still useful, and ideally our model will even have a prediction for an empty-bodied post.\n",
    "\n",
    "There also are repeated, obviously human-written posts in the dataset; we dropped exact duplicates as a part of scraping, so these have some characteristics that vary. In the interest of including the potentially changed titles, we will leave these in."
   ]
  },
  {
   "cell_type": "markdown",
   "metadata": {},
   "source": [
    "### Outliers in Numeric Columns\n",
    "\n",
    "Look for outliers."
   ]
  },
  {
   "cell_type": "code",
   "execution_count": 11,
   "metadata": {},
   "outputs": [
    {
     "data": {
      "text/html": [
       "<div>\n",
       "<style scoped>\n",
       "    .dataframe tbody tr th:only-of-type {\n",
       "        vertical-align: middle;\n",
       "    }\n",
       "\n",
       "    .dataframe tbody tr th {\n",
       "        vertical-align: top;\n",
       "    }\n",
       "\n",
       "    .dataframe thead th {\n",
       "        text-align: right;\n",
       "    }\n",
       "</style>\n",
       "<table border=\"1\" class=\"dataframe\">\n",
       "  <thead>\n",
       "    <tr style=\"text-align: right;\">\n",
       "      <th></th>\n",
       "      <th>created_utc</th>\n",
       "      <th>num_comments</th>\n",
       "      <th>score</th>\n",
       "    </tr>\n",
       "  </thead>\n",
       "  <tbody>\n",
       "    <tr>\n",
       "      <td>count</td>\n",
       "      <td>6.000000e+03</td>\n",
       "      <td>6000.000000</td>\n",
       "      <td>6000.000000</td>\n",
       "    </tr>\n",
       "    <tr>\n",
       "      <td>mean</td>\n",
       "      <td>1.571243e+09</td>\n",
       "      <td>8.022667</td>\n",
       "      <td>13.544833</td>\n",
       "    </tr>\n",
       "    <tr>\n",
       "      <td>std</td>\n",
       "      <td>4.443266e+06</td>\n",
       "      <td>11.591055</td>\n",
       "      <td>236.831469</td>\n",
       "    </tr>\n",
       "    <tr>\n",
       "      <td>min</td>\n",
       "      <td>1.564599e+09</td>\n",
       "      <td>0.000000</td>\n",
       "      <td>0.000000</td>\n",
       "    </tr>\n",
       "    <tr>\n",
       "      <td>25%</td>\n",
       "      <td>1.567250e+09</td>\n",
       "      <td>2.000000</td>\n",
       "      <td>1.000000</td>\n",
       "    </tr>\n",
       "    <tr>\n",
       "      <td>50%</td>\n",
       "      <td>1.571333e+09</td>\n",
       "      <td>5.000000</td>\n",
       "      <td>1.000000</td>\n",
       "    </tr>\n",
       "    <tr>\n",
       "      <td>75%</td>\n",
       "      <td>1.575053e+09</td>\n",
       "      <td>9.000000</td>\n",
       "      <td>2.000000</td>\n",
       "    </tr>\n",
       "    <tr>\n",
       "      <td>max</td>\n",
       "      <td>1.578236e+09</td>\n",
       "      <td>191.000000</td>\n",
       "      <td>13398.000000</td>\n",
       "    </tr>\n",
       "  </tbody>\n",
       "</table>\n",
       "</div>"
      ],
      "text/plain": [
       "        created_utc  num_comments         score\n",
       "count  6.000000e+03   6000.000000   6000.000000\n",
       "mean   1.571243e+09      8.022667     13.544833\n",
       "std    4.443266e+06     11.591055    236.831469\n",
       "min    1.564599e+09      0.000000      0.000000\n",
       "25%    1.567250e+09      2.000000      1.000000\n",
       "50%    1.571333e+09      5.000000      1.000000\n",
       "75%    1.575053e+09      9.000000      2.000000\n",
       "max    1.578236e+09    191.000000  13398.000000"
      ]
     },
     "execution_count": 11,
     "metadata": {},
     "output_type": "execute_result"
    }
   ],
   "source": [
    "df.describe()"
   ]
  },
  {
   "cell_type": "code",
   "execution_count": 12,
   "metadata": {},
   "outputs": [
    {
     "data": {
      "image/png": "[encoded data removed]",
      "text/plain": [
       "<Figure size 432x288 with 3 Axes>"
      ]
     },
     "metadata": {
      "needs_background": "light"
     },
     "output_type": "display_data"
    }
   ],
   "source": [
    "df.plot(kind='box', subplots=True)\n",
    "plt.tight_layout()\n",
    "plt.text(-1.425,1.5e4,'Distribution of Numeric Columns');\n",
    "# for analysis only"
   ]
  },
  {
   "cell_type": "markdown",
   "metadata": {},
   "source": [
    "There are outliers in `score` and `num_comments` that represent extremely popular posts. We aren't using these variables in our model, but outliers in those columns might be indicative of outliers in columns we are including.\\\n",
    "Still, these will be left in; in fact, we ideally would try to collect data containing more of these outliers to better account for popular posts, which are not terribly uncommon and which we might want to be recognizable by our model. However, because our problem statement is agnostic to most Reddit particularities, this will not be done."
   ]
  },
  {
   "cell_type": "markdown",
   "metadata": {},
   "source": [
    "### Format Target\n",
    "\n",
    "Format target column; `0` for r/legaladvice, `1` for r/LegalAdviceUK.\\\n",
    "Because LegalAdviceUK is UK-specific while legaladvice is not strictly US-specific, we treat a UK-detection as our 'positive' outcome."
   ]
  },
  {
   "cell_type": "code",
   "execution_count": 13,
   "metadata": {},
   "outputs": [],
   "source": [
    "df['subreddit'] = df['subreddit'].map(lambda s: int(s=='LegalAdviceUK'))"
   ]
  },
  {
   "cell_type": "markdown",
   "metadata": {},
   "source": [
    "## Exploratory Data Analysis"
   ]
  },
  {
   "cell_type": "markdown",
   "metadata": {},
   "source": [
    "Is our data evenly distributed?"
   ]
  },
  {
   "cell_type": "code",
   "execution_count": 14,
   "metadata": {},
   "outputs": [
    {
     "data": {
      "text/plain": [
       "1    3000\n",
       "0    3000\n",
       "Name: subreddit, dtype: int64"
      ]
     },
     "execution_count": 14,
     "metadata": {},
     "output_type": "execute_result"
    }
   ],
   "source": [
    "df['subreddit'].value_counts()"
   ]
  },
  {
   "cell_type": "markdown",
   "metadata": {},
   "source": [
    "### EDA on Stemmed Word Vectors\n",
    "\n",
    "We're going to better tune our vectorization as part of modeling, but we can here perform lemmatization or stemming and look at some limited vectorization.\n",
    "\n",
    "First, let's experiment with tokenization, stemming, and vectorization."
   ]
  },
  {
   "cell_type": "code",
   "execution_count": 15,
   "metadata": {},
   "outputs": [
    {
     "data": {
      "text/html": [
       "<div>\n",
       "<style scoped>\n",
       "    .dataframe tbody tr th:only-of-type {\n",
       "        vertical-align: middle;\n",
       "    }\n",
       "\n",
       "    .dataframe tbody tr th {\n",
       "        vertical-align: top;\n",
       "    }\n",
       "\n",
       "    .dataframe thead th {\n",
       "        text-align: right;\n",
       "    }\n",
       "</style>\n",
       "<table border=\"1\" class=\"dataframe\">\n",
       "  <thead>\n",
       "    <tr style=\"text-align: right;\">\n",
       "      <th></th>\n",
       "      <th>all</th>\n",
       "      <th>and</th>\n",
       "      <th>at</th>\n",
       "      <th>balisong</th>\n",
       "      <th>but</th>\n",
       "      <th>can</th>\n",
       "      <th>canada</th>\n",
       "      <th>cant</th>\n",
       "      <th>carri</th>\n",
       "      <th>do</th>\n",
       "      <th>...</th>\n",
       "      <th>knife</th>\n",
       "      <th>look</th>\n",
       "      <th>onlin</th>\n",
       "      <th>public</th>\n",
       "      <th>that</th>\n",
       "      <th>them</th>\n",
       "      <th>to</th>\n",
       "      <th>trick</th>\n",
       "      <th>want</th>\n",
       "      <th>you</th>\n",
       "    </tr>\n",
       "  </thead>\n",
       "  <tbody>\n",
       "    <tr>\n",
       "      <td>0</td>\n",
       "      <td>1</td>\n",
       "      <td>1</td>\n",
       "      <td>1</td>\n",
       "      <td>1</td>\n",
       "      <td>2</td>\n",
       "      <td>1</td>\n",
       "      <td>1</td>\n",
       "      <td>1</td>\n",
       "      <td>1</td>\n",
       "      <td>1</td>\n",
       "      <td>...</td>\n",
       "      <td>1</td>\n",
       "      <td>1</td>\n",
       "      <td>1</td>\n",
       "      <td>1</td>\n",
       "      <td>2</td>\n",
       "      <td>1</td>\n",
       "      <td>2</td>\n",
       "      <td>1</td>\n",
       "      <td>1</td>\n",
       "      <td>1</td>\n",
       "    </tr>\n",
       "  </tbody>\n",
       "</table>\n",
       "<p>1 rows × 28 columns</p>\n",
       "</div>"
      ],
      "text/plain": [
       "   all  and  at  balisong  but  can  canada  cant  carri  do  ...  knife  \\\n",
       "0    1    1   1         1    2    1       1     1      1   1  ...      1   \n",
       "\n",
       "   look  onlin  public  that  them  to  trick  want  you  \n",
       "0     1      1       1     2     1   2      1     1    1  \n",
       "\n",
       "[1 rows x 28 columns]"
      ]
     },
     "execution_count": 15,
     "metadata": {},
     "output_type": "execute_result"
    }
   ],
   "source": [
    "# remove non-letters\n",
    "ex_str = re.sub('[^\\w]', ' ', df['selftext'][0])\n",
    "\n",
    "# instantiate a tokenizer\n",
    "tokenizer = RegexpTokenizer(r'\\w+\\S+')\n",
    "\n",
    "# instantiate a stemmer\n",
    "p_stemmer = PorterStemmer()\n",
    "\n",
    "# test the tokenizer+stemmer on the letters in a single text body\n",
    "# and then recombine it back into a single string for vectorization\n",
    "ex_str = ' '.join([p_stemmer.stem(token.lower()) \n",
    "                   for token in tokenizer.tokenize(ex_str)])\n",
    "\n",
    "# perform untuned count vectorization on the example string\n",
    "cvec = CountVectorizer()\n",
    "ex_vec = cvec.fit_transform(pd.Series(data=[ex_str]))\n",
    "\n",
    "pd.DataFrame(ex_vec.toarray(),columns=cvec.get_feature_names())"
   ]
  },
  {
   "cell_type": "markdown",
   "metadata": {},
   "source": [
    "This process seems suitable. We'll apply it to the whole of the post data _for analysis only_. We will vectorize properly as a part of the modeling process."
   ]
  },
  {
   "cell_type": "markdown",
   "metadata": {},
   "source": [
    "### Count Vectorization EDA on Body\n",
    "\n",
    "I want to look at straight wordcounts with count vectorization."
   ]
  },
  {
   "cell_type": "code",
   "execution_count": 16,
   "metadata": {},
   "outputs": [],
   "source": [
    "# a function to run a basic count vectorization with stemming\n",
    "def basic_cvec(col):\n",
    "    \n",
    "    # remove non-letters, apply lowercase\n",
    "    col = col.map(lambda s: re.sub('[^\\w\\s]','',s).lower())\n",
    "    \n",
    "    # instantiate tokenizer, stemmer\n",
    "    tokenizer = RegexpTokenizer(r'\\w+\\S+') # only needed to format stemming\n",
    "    p_stemmer = PorterStemmer()\n",
    "    \n",
    "    # generate stemmed stopwords\n",
    "    stops = {p_stemmer.stem(w) for w in stop_words.ENGLISH_STOP_WORDS}\n",
    "    \n",
    "    # instantiate vectorizer\n",
    "    cvec = CountVectorizer(max_features=100, stop_words=stops)\n",
    "    \n",
    "    # apply tokenizer and stemmer and then re-string\n",
    "    col = col.map(lambda s: ' '.join([p_stemmer.stem(t)\n",
    "                                      for t in tokenizer.tokenize(s)]))\n",
    "    \n",
    "    # return df of vectorized words\n",
    "    return pd.DataFrame(cvec.fit_transform(col).toarray(),\n",
    "                        columns=cvec.get_feature_names())"
   ]
  },
  {
   "cell_type": "code",
   "execution_count": 17,
   "metadata": {},
   "outputs": [
    {
     "name": "stdout",
     "output_type": "stream",
     "text": [
      "Wall time: 19.2 s\n"
     ]
    }
   ],
   "source": [
    "%time df_text_cvec = basic_cvec(df['selftext'])"
   ]
  },
  {
   "cell_type": "code",
   "execution_count": 18,
   "metadata": {},
   "outputs": [
    {
     "data": {
      "text/html": [
       "<div>\n",
       "<style scoped>\n",
       "    .dataframe tbody tr th:only-of-type {\n",
       "        vertical-align: middle;\n",
       "    }\n",
       "\n",
       "    .dataframe tbody tr th {\n",
       "        vertical-align: top;\n",
       "    }\n",
       "\n",
       "    .dataframe thead th {\n",
       "        text-align: right;\n",
       "    }\n",
       "</style>\n",
       "<table border=\"1\" class=\"dataframe\">\n",
       "  <thead>\n",
       "    <tr style=\"text-align: right;\">\n",
       "      <th></th>\n",
       "      <th>title</th>\n",
       "      <th>selftext</th>\n",
       "      <th>subreddit</th>\n",
       "      <th>account</th>\n",
       "      <th>advic</th>\n",
       "      <th>ago</th>\n",
       "      <th>ask</th>\n",
       "      <th>away</th>\n",
       "      <th>car</th>\n",
       "      <th>case</th>\n",
       "      <th>...</th>\n",
       "      <th>time</th>\n",
       "      <th>told</th>\n",
       "      <th>tri</th>\n",
       "      <th>use</th>\n",
       "      <th>want</th>\n",
       "      <th>way</th>\n",
       "      <th>week</th>\n",
       "      <th>went</th>\n",
       "      <th>work</th>\n",
       "      <th>year</th>\n",
       "    </tr>\n",
       "  </thead>\n",
       "  <tbody>\n",
       "    <tr>\n",
       "      <td>0</td>\n",
       "      <td>Balisong Knives in Canada</td>\n",
       "      <td>Is it illegal to keep a balisong knife in cana...</td>\n",
       "      <td>0</td>\n",
       "      <td>0</td>\n",
       "      <td>0</td>\n",
       "      <td>0</td>\n",
       "      <td>0</td>\n",
       "      <td>0</td>\n",
       "      <td>0</td>\n",
       "      <td>0</td>\n",
       "      <td>...</td>\n",
       "      <td>0</td>\n",
       "      <td>0</td>\n",
       "      <td>0</td>\n",
       "      <td>0</td>\n",
       "      <td>1</td>\n",
       "      <td>0</td>\n",
       "      <td>0</td>\n",
       "      <td>0</td>\n",
       "      <td>0</td>\n",
       "      <td>0</td>\n",
       "    </tr>\n",
       "    <tr>\n",
       "      <td>1</td>\n",
       "      <td>Need advices don’t know where to go.</td>\n",
       "      <td>Need advices on my case\\n\\nLong story short i ...</td>\n",
       "      <td>0</td>\n",
       "      <td>0</td>\n",
       "      <td>2</td>\n",
       "      <td>0</td>\n",
       "      <td>0</td>\n",
       "      <td>0</td>\n",
       "      <td>6</td>\n",
       "      <td>1</td>\n",
       "      <td>...</td>\n",
       "      <td>0</td>\n",
       "      <td>4</td>\n",
       "      <td>0</td>\n",
       "      <td>0</td>\n",
       "      <td>0</td>\n",
       "      <td>0</td>\n",
       "      <td>0</td>\n",
       "      <td>3</td>\n",
       "      <td>1</td>\n",
       "      <td>0</td>\n",
       "    </tr>\n",
       "    <tr>\n",
       "      <td>2</td>\n",
       "      <td>AZ - Real Estate: mortgage not covering second...</td>\n",
       "      <td>I just realized when refinancing that I might ...</td>\n",
       "      <td>0</td>\n",
       "      <td>0</td>\n",
       "      <td>1</td>\n",
       "      <td>0</td>\n",
       "      <td>0</td>\n",
       "      <td>0</td>\n",
       "      <td>0</td>\n",
       "      <td>0</td>\n",
       "      <td>...</td>\n",
       "      <td>0</td>\n",
       "      <td>0</td>\n",
       "      <td>0</td>\n",
       "      <td>0</td>\n",
       "      <td>1</td>\n",
       "      <td>0</td>\n",
       "      <td>0</td>\n",
       "      <td>0</td>\n",
       "      <td>0</td>\n",
       "      <td>1</td>\n",
       "    </tr>\n",
       "    <tr>\n",
       "      <td>3</td>\n",
       "      <td>Friend of mine from Australia</td>\n",
       "      <td>So I friend of mine currently, living with a g...</td>\n",
       "      <td>0</td>\n",
       "      <td>0</td>\n",
       "      <td>0</td>\n",
       "      <td>0</td>\n",
       "      <td>0</td>\n",
       "      <td>0</td>\n",
       "      <td>0</td>\n",
       "      <td>0</td>\n",
       "      <td>...</td>\n",
       "      <td>0</td>\n",
       "      <td>0</td>\n",
       "      <td>0</td>\n",
       "      <td>0</td>\n",
       "      <td>1</td>\n",
       "      <td>0</td>\n",
       "      <td>0</td>\n",
       "      <td>0</td>\n",
       "      <td>0</td>\n",
       "      <td>0</td>\n",
       "    </tr>\n",
       "    <tr>\n",
       "      <td>4</td>\n",
       "      <td>Retrieve Files from Webhost</td>\n",
       "      <td>I suppose I need a court order to obtain my fi...</td>\n",
       "      <td>0</td>\n",
       "      <td>1</td>\n",
       "      <td>0</td>\n",
       "      <td>0</td>\n",
       "      <td>0</td>\n",
       "      <td>0</td>\n",
       "      <td>0</td>\n",
       "      <td>0</td>\n",
       "      <td>...</td>\n",
       "      <td>0</td>\n",
       "      <td>0</td>\n",
       "      <td>0</td>\n",
       "      <td>0</td>\n",
       "      <td>0</td>\n",
       "      <td>1</td>\n",
       "      <td>1</td>\n",
       "      <td>0</td>\n",
       "      <td>0</td>\n",
       "      <td>1</td>\n",
       "    </tr>\n",
       "  </tbody>\n",
       "</table>\n",
       "<p>5 rows × 103 columns</p>\n",
       "</div>"
      ],
      "text/plain": [
       "                                               title  \\\n",
       "0                          Balisong Knives in Canada   \n",
       "1               Need advices don’t know where to go.   \n",
       "2  AZ - Real Estate: mortgage not covering second...   \n",
       "3                      Friend of mine from Australia   \n",
       "4                        Retrieve Files from Webhost   \n",
       "\n",
       "                                            selftext  subreddit  account  \\\n",
       "0  Is it illegal to keep a balisong knife in cana...          0        0   \n",
       "1  Need advices on my case\\n\\nLong story short i ...          0        0   \n",
       "2  I just realized when refinancing that I might ...          0        0   \n",
       "3  So I friend of mine currently, living with a g...          0        0   \n",
       "4  I suppose I need a court order to obtain my fi...          0        1   \n",
       "\n",
       "   advic  ago  ask  away  car  case  ...  time  told  tri  use  want  way  \\\n",
       "0      0    0    0     0    0     0  ...     0     0    0    0     1    0   \n",
       "1      2    0    0     0    6     1  ...     0     4    0    0     0    0   \n",
       "2      1    0    0     0    0     0  ...     0     0    0    0     1    0   \n",
       "3      0    0    0     0    0     0  ...     0     0    0    0     1    0   \n",
       "4      0    0    0     0    0     0  ...     0     0    0    0     0    1   \n",
       "\n",
       "   week  went  work  year  \n",
       "0     0     0     0     0  \n",
       "1     0     3     1     0  \n",
       "2     0     0     0     1  \n",
       "3     0     0     0     0  \n",
       "4     1     0     0     1  \n",
       "\n",
       "[5 rows x 103 columns]"
      ]
     },
     "execution_count": 18,
     "metadata": {},
     "output_type": "execute_result"
    }
   ],
   "source": [
    "df_basic_cvec = pd.concat((df[['title','selftext','subreddit']], \n",
    "                           df_text_cvec),axis='columns')\n",
    "df_basic_cvec.head()"
   ]
  },
  {
   "cell_type": "markdown",
   "metadata": {},
   "source": [
    "Count vectorizer has given raw word (actually stem) count. I am interested in what words appear most often overall."
   ]
  },
  {
   "cell_type": "code",
   "execution_count": 19,
   "metadata": {},
   "outputs": [
    {
     "name": "stdout",
     "output_type": "stream",
     "text": [
      "combined\n"
     ]
    },
    {
     "data": {
      "text/plain": [
       "im        4819\n",
       "work      4026\n",
       "just      3661\n",
       "time      3434\n",
       "want      3059\n",
       "          ... \n",
       "reason     801\n",
       "away       801\n",
       "doesnt     789\n",
       "chang      785\n",
       "report     782\n",
       "Length: 100, dtype: int64"
      ]
     },
     "execution_count": 19,
     "metadata": {},
     "output_type": "execute_result"
    }
   ],
   "source": [
    "print('combined')\n",
    "df_basic_cvec.drop(['title','selftext','subreddit'], axis='columns'\n",
    "                  ).sum().sort_values(ascending=False)"
   ]
  },
  {
   "cell_type": "markdown",
   "metadata": {},
   "source": [
    "Certain stems occurr in more than two thirds of the analyzed posts; 'im' (primarily representing 'I'm') and 'work.'"
   ]
  },
  {
   "cell_type": "markdown",
   "metadata": {},
   "source": [
    "What about word occurrence by subreddit?"
   ]
  },
  {
   "cell_type": "code",
   "execution_count": 20,
   "metadata": {},
   "outputs": [
    {
     "name": "stdout",
     "output_type": "stream",
     "text": [
      "USA\n"
     ]
    },
    {
     "data": {
      "text/plain": [
       "im          2438\n",
       "just        1974\n",
       "work        1781\n",
       "time        1745\n",
       "want        1573\n",
       "            ... \n",
       "reason       371\n",
       "employ       362\n",
       "contract     359\n",
       "current      358\n",
       "chang        341\n",
       "Name: 0, Length: 100, dtype: int64"
      ]
     },
     "execution_count": 20,
     "metadata": {},
     "output_type": "execute_result"
    }
   ],
   "source": [
    "print('USA')\n",
    "\n",
    "sum_basic_cvec = df_basic_cvec.drop(['title','selftext'], axis='columns'\n",
    "                                  ).groupby('subreddit').sum()\n",
    "sum_basic_cvec.loc[0].sort_values(ascending=False)"
   ]
  },
  {
   "cell_type": "code",
   "execution_count": 21,
   "metadata": {},
   "outputs": [
    {
     "name": "stdout",
     "output_type": "stream",
     "text": [
      "UK\n"
     ]
    },
    {
     "data": {
      "text/plain": [
       "im        2381\n",
       "work      2245\n",
       "time      1689\n",
       "just      1687\n",
       "year      1590\n",
       "          ... \n",
       "offic      383\n",
       "insur      383\n",
       "law        373\n",
       "check      371\n",
       "report     369\n",
       "Name: 1, Length: 100, dtype: int64"
      ]
     },
     "execution_count": 21,
     "metadata": {},
     "output_type": "execute_result"
    }
   ],
   "source": [
    "print('UK')\n",
    "sum_basic_cvec.loc[1].sort_values(ascending=False)"
   ]
  },
  {
   "cell_type": "markdown",
   "metadata": {},
   "source": [
    "I am interested in the gulf between the two subreddits, words that appear often in one but less often in the other. We will inspect that."
   ]
  },
  {
   "cell_type": "code",
   "execution_count": 22,
   "metadata": {},
   "outputs": [
    {
     "name": "stdout",
     "output_type": "stream",
     "text": [
      "UK occurrence - USA occurrence\n"
     ]
    },
    {
     "data": {
      "text/html": [
       "<div>\n",
       "<style scoped>\n",
       "    .dataframe tbody tr th:only-of-type {\n",
       "        vertical-align: middle;\n",
       "    }\n",
       "\n",
       "    .dataframe tbody tr th {\n",
       "        vertical-align: top;\n",
       "    }\n",
       "\n",
       "    .dataframe thead th {\n",
       "        text-align: right;\n",
       "    }\n",
       "</style>\n",
       "<table border=\"1\" class=\"dataframe\">\n",
       "  <thead>\n",
       "    <tr style=\"text-align: right;\">\n",
       "      <th></th>\n",
       "      <th>UK - USA</th>\n",
       "    </tr>\n",
       "  </thead>\n",
       "  <tbody>\n",
       "    <tr>\n",
       "      <td>contract</td>\n",
       "      <td>535</td>\n",
       "    </tr>\n",
       "    <tr>\n",
       "      <td>work</td>\n",
       "      <td>464</td>\n",
       "    </tr>\n",
       "    <tr>\n",
       "      <td>ive</td>\n",
       "      <td>395</td>\n",
       "    </tr>\n",
       "    <tr>\n",
       "      <td>properti</td>\n",
       "      <td>321</td>\n",
       "    </tr>\n",
       "    <tr>\n",
       "      <td>email</td>\n",
       "      <td>315</td>\n",
       "    </tr>\n",
       "    <tr>\n",
       "      <td>...</td>\n",
       "      <td>...</td>\n",
       "    </tr>\n",
       "    <tr>\n",
       "      <td>insur</td>\n",
       "      <td>-216</td>\n",
       "    </tr>\n",
       "    <tr>\n",
       "      <td>tri</td>\n",
       "      <td>-219</td>\n",
       "    </tr>\n",
       "    <tr>\n",
       "      <td>state</td>\n",
       "      <td>-268</td>\n",
       "    </tr>\n",
       "    <tr>\n",
       "      <td>live</td>\n",
       "      <td>-275</td>\n",
       "    </tr>\n",
       "    <tr>\n",
       "      <td>just</td>\n",
       "      <td>-287</td>\n",
       "    </tr>\n",
       "  </tbody>\n",
       "</table>\n",
       "<p>100 rows × 1 columns</p>\n",
       "</div>"
      ],
      "text/plain": [
       "          UK - USA\n",
       "contract       535\n",
       "work           464\n",
       "ive            395\n",
       "properti       321\n",
       "email          315\n",
       "...            ...\n",
       "insur         -216\n",
       "tri           -219\n",
       "state         -268\n",
       "live          -275\n",
       "just          -287\n",
       "\n",
       "[100 rows x 1 columns]"
      ]
     },
     "execution_count": 22,
     "metadata": {},
     "output_type": "execute_result"
    }
   ],
   "source": [
    "print('UK occurrence - USA occurrence')\n",
    "diff=pd.DataFrame((\n",
    "    sum_basic_cvec.T[1] - sum_basic_cvec.T[0]\n",
    ").sort_values(ascending=False)).rename(columns={0:'UK - USA'})\n",
    "diff"
   ]
  },
  {
   "cell_type": "markdown",
   "metadata": {},
   "source": [
    "Even though 'just' occurs very often in both subreddits, it still is used more in America than Britain than any other word. Similarly, even though 'work' is in the three most common words for each subreddit's post bodies, it is the second 'most British word,' at least among those explored here.\n",
    "\n",
    "We can inspect the words in our selection which were not especially more common in one subreddit than the other."
   ]
  },
  {
   "cell_type": "code",
   "execution_count": 23,
   "metadata": {},
   "outputs": [
    {
     "data": {
      "text/html": [
       "<div>\n",
       "<style scoped>\n",
       "    .dataframe tbody tr th:only-of-type {\n",
       "        vertical-align: middle;\n",
       "    }\n",
       "\n",
       "    .dataframe tbody tr th {\n",
       "        vertical-align: top;\n",
       "    }\n",
       "\n",
       "    .dataframe thead th {\n",
       "        text-align: right;\n",
       "    }\n",
       "</style>\n",
       "<table border=\"1\" class=\"dataframe\">\n",
       "  <thead>\n",
       "    <tr style=\"text-align: right;\">\n",
       "      <th></th>\n",
       "      <th>UK - USA</th>\n",
       "    </tr>\n",
       "  </thead>\n",
       "  <tbody>\n",
       "    <tr>\n",
       "      <td>question</td>\n",
       "      <td>29</td>\n",
       "    </tr>\n",
       "    <tr>\n",
       "      <td>legal</td>\n",
       "      <td>25</td>\n",
       "    </tr>\n",
       "    <tr>\n",
       "      <td>point</td>\n",
       "      <td>24</td>\n",
       "    </tr>\n",
       "    <tr>\n",
       "      <td>doesnt</td>\n",
       "      <td>19</td>\n",
       "    </tr>\n",
       "    <tr>\n",
       "      <td>situat</td>\n",
       "      <td>8</td>\n",
       "    </tr>\n",
       "    <tr>\n",
       "      <td>realli</td>\n",
       "      <td>3</td>\n",
       "    </tr>\n",
       "    <tr>\n",
       "      <td>start</td>\n",
       "      <td>2</td>\n",
       "    </tr>\n",
       "    <tr>\n",
       "      <td>didnt</td>\n",
       "      <td>2</td>\n",
       "    </tr>\n",
       "    <tr>\n",
       "      <td>away</td>\n",
       "      <td>-11</td>\n",
       "    </tr>\n",
       "    <tr>\n",
       "      <td>place</td>\n",
       "      <td>-12</td>\n",
       "    </tr>\n",
       "    <tr>\n",
       "      <td>need</td>\n",
       "      <td>-15</td>\n",
       "    </tr>\n",
       "    <tr>\n",
       "      <td>account</td>\n",
       "      <td>-16</td>\n",
       "    </tr>\n",
       "    <tr>\n",
       "      <td>ago</td>\n",
       "      <td>-18</td>\n",
       "    </tr>\n",
       "    <tr>\n",
       "      <td>case</td>\n",
       "      <td>-18</td>\n",
       "    </tr>\n",
       "    <tr>\n",
       "      <td>come</td>\n",
       "      <td>-19</td>\n",
       "    </tr>\n",
       "  </tbody>\n",
       "</table>\n",
       "</div>"
      ],
      "text/plain": [
       "          UK - USA\n",
       "question        29\n",
       "legal           25\n",
       "point           24\n",
       "doesnt          19\n",
       "situat           8\n",
       "realli           3\n",
       "start            2\n",
       "didnt            2\n",
       "away           -11\n",
       "place          -12\n",
       "need           -15\n",
       "account        -16\n",
       "ago            -18\n",
       "case           -18\n",
       "come           -19"
      ]
     },
     "execution_count": 23,
     "metadata": {},
     "output_type": "execute_result"
    }
   ],
   "source": [
    "diff[abs(diff['UK - USA']) < df.shape[0]/200] # cap mostly arbitrary"
   ]
  },
  {
   "cell_type": "markdown",
   "metadata": {},
   "source": [
    "I might consider removing words of this sort as stopwords, as they occur with similar frequency across the two subreddits. However, they may be relevant if I model word groupings as well as single words, so they should not be excluded without analysis."
   ]
  },
  {
   "cell_type": "markdown",
   "metadata": {},
   "source": [
    "I want to visualize this for some of those words."
   ]
  },
  {
   "cell_type": "code",
   "execution_count": 24,
   "metadata": {},
   "outputs": [
    {
     "data": {
      "image/png": "[encoded data removed]",
      "text/plain": [
       "<Figure size 432x288 with 1 Axes>"
      ]
     },
     "metadata": {
      "needs_background": "light"
     },
     "output_type": "display_data"
    }
   ],
   "source": [
    "sns.boxplot(df_basic_cvec['subreddit'],df_basic_cvec['just'])\n",
    "plt.title('Occurence of \\'just\\' in subreddit posts')\n",
    "plt.ylabel('count');"
   ]
  },
  {
   "cell_type": "code",
   "execution_count": 25,
   "metadata": {},
   "outputs": [
    {
     "data": {
      "image/png": "[encoded data removed]",
      "text/plain": [
       "<Figure size 432x288 with 1 Axes>"
      ]
     },
     "metadata": {
      "needs_background": "light"
     },
     "output_type": "display_data"
    }
   ],
   "source": [
    "sns.boxplot(df_basic_cvec['subreddit'],df_basic_cvec['work'])\n",
    "plt.title('Occurence of \\'work\\' in subreddit posts')\n",
    "plt.ylabel('count');"
   ]
  },
  {
   "cell_type": "code",
   "execution_count": 26,
   "metadata": {},
   "outputs": [
    {
     "name": "stdout",
     "output_type": "stream",
     "text": [
      "im is primarily representative of I'm\n"
     ]
    },
    {
     "data": {
      "image/png": "[encoded data removed]",
      "text/plain": [
       "<Figure size 432x288 with 1 Axes>"
      ]
     },
     "metadata": {
      "needs_background": "light"
     },
     "output_type": "display_data"
    }
   ],
   "source": [
    "sns.boxplot(df_basic_cvec['subreddit'],df_basic_cvec['im'])\n",
    "plt.title('Occurence of \\'im\\', in subreddit posts')\n",
    "plt.ylabel('count');\n",
    "print('im is primarily representative of I\\'m')"
   ]
  },
  {
   "cell_type": "markdown",
   "metadata": {},
   "source": [
    "### Count Vectorization EDA on Title\n",
    "\n",
    "I also want to see this effect in the title columns."
   ]
  },
  {
   "cell_type": "code",
   "execution_count": 27,
   "metadata": {},
   "outputs": [
    {
     "name": "stdout",
     "output_type": "stream",
     "text": [
      "Wall time: 1.25 s\n",
      "combined\n"
     ]
    },
    {
     "data": {
      "text/plain": [
       "legal     420\n",
       "pay       348\n",
       "car       324\n",
       "work      307\n",
       "employ    260\n",
       "         ... \n",
       "dad        63\n",
       "tenant     63\n",
       "way        62\n",
       "school     62\n",
       "told       61\n",
       "Length: 100, dtype: int64"
      ]
     },
     "execution_count": 27,
     "metadata": {},
     "output_type": "execute_result"
    }
   ],
   "source": [
    "%time df_text_cvec_t = basic_cvec(df['title'])\n",
    "df_basic_cvec_t = pd.concat((df[['title','selftext','subreddit']], \n",
    "                             df_text_cvec_t),axis='columns')\n",
    "print('combined')\n",
    "df_basic_cvec_t.drop(['title','selftext','subreddit'], axis='columns'\n",
    "                    ).sum().sort_values(ascending=False)"
   ]
  },
  {
   "cell_type": "code",
   "execution_count": 28,
   "metadata": {},
   "outputs": [
    {
     "name": "stdout",
     "output_type": "stream",
     "text": [
      "USA\n"
     ]
    },
    {
     "data": {
      "text/plain": [
       "legal      198\n",
       "car        175\n",
       "pay        163\n",
       "need       117\n",
       "work       114\n",
       "          ... \n",
       "phone       22\n",
       "drive       20\n",
       "let         16\n",
       "tenanc       5\n",
       "england      1\n",
       "Name: 0, Length: 100, dtype: int64"
      ]
     },
     "execution_count": 28,
     "metadata": {},
     "output_type": "execute_result"
    }
   ],
   "source": [
    "print('USA')\n",
    "\n",
    "sum_basic_cvec_t = df_basic_cvec_t.drop(\n",
    "    ['title','selftext'], axis='columns').groupby('subreddit').sum()\n",
    "\n",
    "sum_basic_cvec_t.loc[0].sort_values(ascending=False)"
   ]
  },
  {
   "cell_type": "code",
   "execution_count": 29,
   "metadata": {},
   "outputs": [
    {
     "name": "stdout",
     "output_type": "stream",
     "text": [
      "UK\n"
     ]
    },
    {
     "data": {
      "text/plain": [
       "legal       222\n",
       "work        193\n",
       "pay         185\n",
       "employ      168\n",
       "car         149\n",
       "           ... \n",
       "leas         18\n",
       "neighbor     10\n",
       "state         9\n",
       "apart         8\n",
       "ca            0\n",
       "Name: 1, Length: 100, dtype: int64"
      ]
     },
     "execution_count": 29,
     "metadata": {},
     "output_type": "execute_result"
    }
   ],
   "source": [
    "print('UK')\n",
    "sum_basic_cvec_t.loc[1].sort_values(ascending=False)"
   ]
  },
  {
   "cell_type": "code",
   "execution_count": 30,
   "metadata": {},
   "outputs": [
    {
     "name": "stdout",
     "output_type": "stream",
     "text": [
      "UK occurrence - USA occurrence\n"
     ]
    },
    {
     "data": {
      "text/html": [
       "<div>\n",
       "<style scoped>\n",
       "    .dataframe tbody tr th:only-of-type {\n",
       "        vertical-align: middle;\n",
       "    }\n",
       "\n",
       "    .dataframe tbody tr th {\n",
       "        vertical-align: top;\n",
       "    }\n",
       "\n",
       "    .dataframe thead th {\n",
       "        text-align: right;\n",
       "    }\n",
       "</style>\n",
       "<table border=\"1\" class=\"dataframe\">\n",
       "  <thead>\n",
       "    <tr style=\"text-align: right;\">\n",
       "      <th></th>\n",
       "      <th>UK - USA</th>\n",
       "    </tr>\n",
       "  </thead>\n",
       "  <tbody>\n",
       "    <tr>\n",
       "      <td>uk</td>\n",
       "      <td>105</td>\n",
       "    </tr>\n",
       "    <tr>\n",
       "      <td>england</td>\n",
       "      <td>86</td>\n",
       "    </tr>\n",
       "    <tr>\n",
       "      <td>work</td>\n",
       "      <td>79</td>\n",
       "    </tr>\n",
       "    <tr>\n",
       "      <td>employ</td>\n",
       "      <td>76</td>\n",
       "    </tr>\n",
       "    <tr>\n",
       "      <td>contract</td>\n",
       "      <td>74</td>\n",
       "    </tr>\n",
       "    <tr>\n",
       "      <td>...</td>\n",
       "      <td>...</td>\n",
       "    </tr>\n",
       "    <tr>\n",
       "      <td>got</td>\n",
       "      <td>-60</td>\n",
       "    </tr>\n",
       "    <tr>\n",
       "      <td>ca</td>\n",
       "      <td>-69</td>\n",
       "    </tr>\n",
       "    <tr>\n",
       "      <td>state</td>\n",
       "      <td>-71</td>\n",
       "    </tr>\n",
       "    <tr>\n",
       "      <td>apart</td>\n",
       "      <td>-74</td>\n",
       "    </tr>\n",
       "    <tr>\n",
       "      <td>leas</td>\n",
       "      <td>-89</td>\n",
       "    </tr>\n",
       "  </tbody>\n",
       "</table>\n",
       "<p>100 rows × 1 columns</p>\n",
       "</div>"
      ],
      "text/plain": [
       "          UK - USA\n",
       "uk             105\n",
       "england         86\n",
       "work            79\n",
       "employ          76\n",
       "contract        74\n",
       "...            ...\n",
       "got            -60\n",
       "ca             -69\n",
       "state          -71\n",
       "apart          -74\n",
       "leas           -89\n",
       "\n",
       "[100 rows x 1 columns]"
      ]
     },
     "execution_count": 30,
     "metadata": {},
     "output_type": "execute_result"
    }
   ],
   "source": [
    "print('UK occurrence - USA occurrence')\n",
    "diff_t=pd.DataFrame((\n",
    "    sum_basic_cvec_t.T[1] - sum_basic_cvec_t.T[0]\n",
    ").sort_values(ascending=False)).rename(columns={0:'UK - USA'})\n",
    "diff_t"
   ]
  },
  {
   "cell_type": "markdown",
   "metadata": {},
   "source": [
    "'Work' is very British, despite showing up in the other titleset more than all but 4 words. Other words with big gaps, such as 'UK,' 'England,' 'CA,' and 'state' are obviously related to the geography of their posters. Non-Brits talk about 'apart,' a stem of 'apartment' and 'leas,' a stem of 'lease,' much more often; presumably, Brits are discussing flats, though no stem for it is apparent in these top 100."
   ]
  },
  {
   "cell_type": "markdown",
   "metadata": {},
   "source": [
    "We won't bother to visualize these; titles are much shorter than posts, so even the most common words don't appear in more than a quarter of the titles."
   ]
  },
  {
   "cell_type": "markdown",
   "metadata": {},
   "source": [
    "### Count Vectorization EDA on Combined\n",
    "\n",
    "What about the combined text of the title and post?"
   ]
  },
  {
   "cell_type": "code",
   "execution_count": 31,
   "metadata": {},
   "outputs": [
    {
     "name": "stdout",
     "output_type": "stream",
     "text": [
      "Wall time: 21.4 s\n",
      "combined\n"
     ]
    },
    {
     "data": {
      "text/plain": [
       "im         5015\n",
       "work       4333\n",
       "just       3772\n",
       "time       3540\n",
       "pay        3344\n",
       "           ... \n",
       "long        870\n",
       "parent      858\n",
       "away        851\n",
       "current     850\n",
       "report      845\n",
       "Length: 100, dtype: int64"
      ]
     },
     "execution_count": 31,
     "metadata": {},
     "output_type": "execute_result"
    }
   ],
   "source": [
    "%time df_text_cvec_2 = basic_cvec(df['title']+' '+df['selftext'])\n",
    "df_basic_cvec_2 = pd.concat((df[['title','selftext','subreddit']], \n",
    "                             df_text_cvec_2),axis='columns')\n",
    "print('combined')\n",
    "df_basic_cvec_2.drop(['title','selftext','subreddit'], axis='columns'\n",
    "                    ).sum().sort_values(ascending=False)"
   ]
  },
  {
   "cell_type": "code",
   "execution_count": 32,
   "metadata": {},
   "outputs": [
    {
     "name": "stdout",
     "output_type": "stream",
     "text": [
      "USA\n"
     ]
    },
    {
     "data": {
      "text/plain": [
       "im          2538\n",
       "just        2046\n",
       "work        1895\n",
       "time        1804\n",
       "want        1685\n",
       "            ... \n",
       "long         409\n",
       "sent         405\n",
       "contract     401\n",
       "chang        386\n",
       "current      373\n",
       "Name: 0, Length: 100, dtype: int64"
      ]
     },
     "execution_count": 32,
     "metadata": {},
     "output_type": "execute_result"
    }
   ],
   "source": [
    "print('USA')\n",
    "\n",
    "sum_basic_cvec_2 = df_basic_cvec_2.drop(\n",
    "    ['title','selftext'], axis='columns').groupby('subreddit').sum()\n",
    "\n",
    "sum_basic_cvec_2.loc[0].sort_values(ascending=False)"
   ]
  },
  {
   "cell_type": "code",
   "execution_count": 33,
   "metadata": {},
   "outputs": [
    {
     "name": "stdout",
     "output_type": "stream",
     "text": [
      "UK\n"
     ]
    },
    {
     "data": {
      "text/plain": [
       "im        2477\n",
       "work      2438\n",
       "pay       1774\n",
       "time      1736\n",
       "just      1726\n",
       "          ... \n",
       "offic      404\n",
       "report     396\n",
       "check      391\n",
       "parent     331\n",
       "leas       122\n",
       "Name: 1, Length: 100, dtype: int64"
      ]
     },
     "execution_count": 33,
     "metadata": {},
     "output_type": "execute_result"
    }
   ],
   "source": [
    "print('UK')\n",
    "sum_basic_cvec_2.loc[1].sort_values(ascending=False)"
   ]
  },
  {
   "cell_type": "code",
   "execution_count": 34,
   "metadata": {},
   "outputs": [
    {
     "name": "stdout",
     "output_type": "stream",
     "text": [
      "UK occurrence - USA occurrence\n"
     ]
    },
    {
     "data": {
      "text/html": [
       "<div>\n",
       "<style scoped>\n",
       "    .dataframe tbody tr th:only-of-type {\n",
       "        vertical-align: middle;\n",
       "    }\n",
       "\n",
       "    .dataframe tbody tr th {\n",
       "        vertical-align: top;\n",
       "    }\n",
       "\n",
       "    .dataframe thead th {\n",
       "        text-align: right;\n",
       "    }\n",
       "</style>\n",
       "<table border=\"1\" class=\"dataframe\">\n",
       "  <thead>\n",
       "    <tr style=\"text-align: right;\">\n",
       "      <th></th>\n",
       "      <th>UK - USA</th>\n",
       "    </tr>\n",
       "  </thead>\n",
       "  <tbody>\n",
       "    <tr>\n",
       "      <td>contract</td>\n",
       "      <td>609</td>\n",
       "    </tr>\n",
       "    <tr>\n",
       "      <td>work</td>\n",
       "      <td>543</td>\n",
       "    </tr>\n",
       "    <tr>\n",
       "      <td>ive</td>\n",
       "      <td>409</td>\n",
       "    </tr>\n",
       "    <tr>\n",
       "      <td>advic</td>\n",
       "      <td>374</td>\n",
       "    </tr>\n",
       "    <tr>\n",
       "      <td>properti</td>\n",
       "      <td>344</td>\n",
       "    </tr>\n",
       "    <tr>\n",
       "      <td>...</td>\n",
       "      <td>...</td>\n",
       "    </tr>\n",
       "    <tr>\n",
       "      <td>insur</td>\n",
       "      <td>-223</td>\n",
       "    </tr>\n",
       "    <tr>\n",
       "      <td>live</td>\n",
       "      <td>-285</td>\n",
       "    </tr>\n",
       "    <tr>\n",
       "      <td>just</td>\n",
       "      <td>-320</td>\n",
       "    </tr>\n",
       "    <tr>\n",
       "      <td>state</td>\n",
       "      <td>-339</td>\n",
       "    </tr>\n",
       "    <tr>\n",
       "      <td>leas</td>\n",
       "      <td>-640</td>\n",
       "    </tr>\n",
       "  </tbody>\n",
       "</table>\n",
       "<p>100 rows × 1 columns</p>\n",
       "</div>"
      ],
      "text/plain": [
       "          UK - USA\n",
       "contract       609\n",
       "work           543\n",
       "ive            409\n",
       "advic          374\n",
       "properti       344\n",
       "...            ...\n",
       "insur         -223\n",
       "live          -285\n",
       "just          -320\n",
       "state         -339\n",
       "leas          -640\n",
       "\n",
       "[100 rows x 1 columns]"
      ]
     },
     "execution_count": 34,
     "metadata": {},
     "output_type": "execute_result"
    }
   ],
   "source": [
    "print('UK occurrence - USA occurrence')\n",
    "diff_2=pd.DataFrame((\n",
    "    sum_basic_cvec_2.T[1] - sum_basic_cvec_2.T[0]\n",
    ").sort_values(ascending=False)).rename(columns={0:'UK - USA'})\n",
    "diff_2"
   ]
  },
  {
   "cell_type": "markdown",
   "metadata": {},
   "source": [
    "Brits are saying 'contract,' 'work,' 'I've,' and other words more and words like 'lease,' 'state,' and 'just (or justice)' less."
   ]
  },
  {
   "cell_type": "markdown",
   "metadata": {},
   "source": [
    "Let's see some of these counts compared."
   ]
  },
  {
   "cell_type": "code",
   "execution_count": 35,
   "metadata": {},
   "outputs": [],
   "source": [
    "def barpair_from_sum(sum_df, bar_words, proportional=False):\n",
    "    # a function to format a sum df for sns barplotting\n",
    "    # essentially, stacking two rows of a df onto each other\n",
    "    # and adding a new subreddit column\n",
    "    s = sum_df[bar_words].T\n",
    "    s['words'] = s.index\n",
    "    s0 = s[[0,'words']].rename(columns={0:'count'})\n",
    "    s1 = s[[1,'words']].rename(columns={1:'count'})\n",
    "    s0['subreddit'] = 'r/legaladvice'\n",
    "    s1['subreddit'] = 'r/LegalAdviceUK'\n",
    "    \n",
    "    if proportional:\n",
    "        s0['proportion'] = s0['count']/(s0['count']+s1['count'])\n",
    "        s1['proportion'] = s1['count']/(s0['count']+s1['count'])\n",
    "        sns.barplot(y='words',x='proportion',\n",
    "                data=pd.concat([s0,s1]), hue='subreddit')\n",
    "    else:\n",
    "        sns.barplot(y='words',x='count',\n",
    "                    data=pd.concat([s0,s1]), hue='subreddit')"
   ]
  },
  {
   "cell_type": "code",
   "execution_count": 36,
   "metadata": {},
   "outputs": [
    {
     "data": {
      "image/png": "[encoded data removed]",
      "text/plain": [
       "<Figure size 576x576 with 1 Axes>"
      ]
     },
     "metadata": {
      "needs_background": "light"
     },
     "output_type": "display_data"
    }
   ],
   "source": [
    "# some interesting words/stems\n",
    "bar_words = ['im','work','just','time','pay',\n",
    "             'contract','ive','advic','properti',\n",
    "             'insur','live','state','leas',\n",
    "             'peopl','money','dont','point',\n",
    "             'place','realli','situat']\n",
    "\n",
    "plt.figure(figsize=(8,8))\n",
    "barpair_from_sum(sum_basic_cvec_2,bar_words)\n",
    "plt.title('Selected Stems Counted from Legal Advice Subreddits',\n",
    "          fontsize=16)\n",
    "plt.tight_layout()\n",
    "\n",
    "plt.savefig('../figures/bar.png')"
   ]
  },
  {
   "cell_type": "markdown",
   "metadata": {},
   "source": [
    "We can visualize the 'gulf' better by plotting counts-in-subreddit/counts-overall."
   ]
  },
  {
   "cell_type": "code",
   "execution_count": 37,
   "metadata": {},
   "outputs": [
    {
     "data": {
      "image/png": "[encoded data removed]",
      "text/plain": [
       "<Figure size 576x576 with 1 Axes>"
      ]
     },
     "metadata": {
      "needs_background": "light"
     },
     "output_type": "display_data"
    }
   ],
   "source": [
    "plt.figure(figsize=(8,8))\n",
    "barpair_from_sum(sum_basic_cvec_2,bar_words,proportional=True)\n",
    "plt.title('Selected Stem Proportions from Legal Advice Subreddits',\n",
    "          fontsize=16)\n",
    "plt.tight_layout()\n",
    "\n",
    "plt.savefig('../figures/bar_prop.png')"
   ]
  },
  {
   "cell_type": "markdown",
   "metadata": {},
   "source": [
    "The presence of some words whose appearance proportions are so dramatically titled toward one subreddit or the other is encouraging; it suggests that this methodology will indeed be useful in generating our intended model."
   ]
  },
  {
   "cell_type": "markdown",
   "metadata": {},
   "source": [
    "### Wordcount Caveat\n",
    "\n",
    "There are some flaws with this approach. For one, word ocurrence is not scaled against the total wordcount for the subreddit corpora. Let's see if that should matter."
   ]
  },
  {
   "cell_type": "code",
   "execution_count": 38,
   "metadata": {},
   "outputs": [
    {
     "name": "stdout",
     "output_type": "stream",
     "text": [
      "201.51733333333334 avg words in r/legaladvice posts\n",
      "205.00633333333334 avg words in r/LegalAdviceUK posts\n"
     ]
    }
   ],
   "source": [
    "# avg wordcount per subreddit\n",
    "usa_avg_words = ' '.join(\n",
    "    [b for b in df.loc[df['subreddit']==0,'selftext']]\n",
    ").count(' ')/df.loc[df['subreddit']==0,'selftext'].shape[0]\n",
    "\n",
    "uk_avg_words = ' '.join(\n",
    "    [b for b in df.loc[df['subreddit']==1,'selftext']]\n",
    ").count(' ')/df.loc[df['subreddit']==1,'selftext'].shape[0]\n",
    "\n",
    "\n",
    "print(usa_avg_words,'avg words in r/legaladvice posts')\n",
    "print(uk_avg_words,'avg words in r/LegalAdviceUK posts')"
   ]
  },
  {
   "cell_type": "markdown",
   "metadata": {},
   "source": [
    "There is a less than 2% difference in corpus wordcount. To account for this, we may want to consider a vectorizer other than CountVectorizer."
   ]
  },
  {
   "cell_type": "markdown",
   "metadata": {},
   "source": [
    "### TFIDF Vectorization EDA\n",
    "\n",
    "Many of the most common words across the two subreddits are similar. I might want to use analysis less dependent on wordcount and more interested in unique words; I'll use term frequency-inverse document frequency vectorization for that."
   ]
  },
  {
   "cell_type": "code",
   "execution_count": 39,
   "metadata": {},
   "outputs": [],
   "source": [
    "# a function to run a basic TFIDF-vectorization with stemming\n",
    "def basic_tvec(col):\n",
    "    \n",
    "    # remove non-letters, apply lowercase\n",
    "#     col = col.map(lambda s: re.sub('[^\\w]',' ',s).lower())\n",
    "    col = col.map(lambda s: re.sub('[^\\w\\s]','',s).lower())\n",
    "    \n",
    "    # instantiate tokenizer, stemmer\n",
    "    tokenizer = RegexpTokenizer(r'\\w+\\S+')\n",
    "    p_stemmer = PorterStemmer()\n",
    "    \n",
    "    # generate stemmed stopwords\n",
    "    stops = {p_stemmer.stem(w) for w in stop_words.ENGLISH_STOP_WORDS}\n",
    "    \n",
    "    # instantiate vectorizer\n",
    "    tvec = TfidfVectorizer(max_features=100, stop_words=stops)\n",
    "    \n",
    "    # apply tokenizer and stemmer and then re-string\n",
    "    col = col.map(lambda s: ' '.join([p_stemmer.stem(t)\n",
    "                                      for t in tokenizer.tokenize(s)]))\n",
    "    \n",
    "    # return df of vectorized words\n",
    "    return pd.DataFrame(tvec.fit_transform(col).toarray(),\n",
    "                        columns=tvec.get_feature_names())"
   ]
  },
  {
   "cell_type": "code",
   "execution_count": 40,
   "metadata": {},
   "outputs": [
    {
     "name": "stdout",
     "output_type": "stream",
     "text": [
      "Wall time: 19.8 s\n"
     ]
    }
   ],
   "source": [
    "%time df_text_tvec = basic_tvec(df['selftext'])"
   ]
  },
  {
   "cell_type": "code",
   "execution_count": 41,
   "metadata": {},
   "outputs": [
    {
     "data": {
      "text/html": [
       "<div>\n",
       "<style scoped>\n",
       "    .dataframe tbody tr th:only-of-type {\n",
       "        vertical-align: middle;\n",
       "    }\n",
       "\n",
       "    .dataframe tbody tr th {\n",
       "        vertical-align: top;\n",
       "    }\n",
       "\n",
       "    .dataframe thead th {\n",
       "        text-align: right;\n",
       "    }\n",
       "</style>\n",
       "<table border=\"1\" class=\"dataframe\">\n",
       "  <thead>\n",
       "    <tr style=\"text-align: right;\">\n",
       "      <th></th>\n",
       "      <th>title</th>\n",
       "      <th>selftext</th>\n",
       "      <th>subreddit</th>\n",
       "      <th>account</th>\n",
       "      <th>advic</th>\n",
       "      <th>ago</th>\n",
       "      <th>ask</th>\n",
       "      <th>away</th>\n",
       "      <th>car</th>\n",
       "      <th>case</th>\n",
       "      <th>...</th>\n",
       "      <th>time</th>\n",
       "      <th>told</th>\n",
       "      <th>tri</th>\n",
       "      <th>use</th>\n",
       "      <th>want</th>\n",
       "      <th>way</th>\n",
       "      <th>week</th>\n",
       "      <th>went</th>\n",
       "      <th>work</th>\n",
       "      <th>year</th>\n",
       "    </tr>\n",
       "  </thead>\n",
       "  <tbody>\n",
       "    <tr>\n",
       "      <td>0</td>\n",
       "      <td>Balisong Knives in Canada</td>\n",
       "      <td>Is it illegal to keep a balisong knife in cana...</td>\n",
       "      <td>0</td>\n",
       "      <td>0.000000</td>\n",
       "      <td>0.000000</td>\n",
       "      <td>0.0</td>\n",
       "      <td>0.0</td>\n",
       "      <td>0.0</td>\n",
       "      <td>0.000000</td>\n",
       "      <td>0.000000</td>\n",
       "      <td>...</td>\n",
       "      <td>0.0</td>\n",
       "      <td>0.00000</td>\n",
       "      <td>0.0</td>\n",
       "      <td>0.0</td>\n",
       "      <td>0.408798</td>\n",
       "      <td>0.000000</td>\n",
       "      <td>0.000000</td>\n",
       "      <td>0.000000</td>\n",
       "      <td>0.000000</td>\n",
       "      <td>0.000000</td>\n",
       "    </tr>\n",
       "    <tr>\n",
       "      <td>1</td>\n",
       "      <td>Need advices don’t know where to go.</td>\n",
       "      <td>Need advices on my case\\n\\nLong story short i ...</td>\n",
       "      <td>0</td>\n",
       "      <td>0.000000</td>\n",
       "      <td>0.180459</td>\n",
       "      <td>0.0</td>\n",
       "      <td>0.0</td>\n",
       "      <td>0.0</td>\n",
       "      <td>0.614282</td>\n",
       "      <td>0.102288</td>\n",
       "      <td>...</td>\n",
       "      <td>0.0</td>\n",
       "      <td>0.31943</td>\n",
       "      <td>0.0</td>\n",
       "      <td>0.0</td>\n",
       "      <td>0.000000</td>\n",
       "      <td>0.000000</td>\n",
       "      <td>0.000000</td>\n",
       "      <td>0.295991</td>\n",
       "      <td>0.071212</td>\n",
       "      <td>0.000000</td>\n",
       "    </tr>\n",
       "    <tr>\n",
       "      <td>2</td>\n",
       "      <td>AZ - Real Estate: mortgage not covering second...</td>\n",
       "      <td>I just realized when refinancing that I might ...</td>\n",
       "      <td>0</td>\n",
       "      <td>0.000000</td>\n",
       "      <td>0.152586</td>\n",
       "      <td>0.0</td>\n",
       "      <td>0.0</td>\n",
       "      <td>0.0</td>\n",
       "      <td>0.000000</td>\n",
       "      <td>0.000000</td>\n",
       "      <td>...</td>\n",
       "      <td>0.0</td>\n",
       "      <td>0.00000</td>\n",
       "      <td>0.0</td>\n",
       "      <td>0.0</td>\n",
       "      <td>0.119649</td>\n",
       "      <td>0.000000</td>\n",
       "      <td>0.000000</td>\n",
       "      <td>0.000000</td>\n",
       "      <td>0.000000</td>\n",
       "      <td>0.124254</td>\n",
       "    </tr>\n",
       "    <tr>\n",
       "      <td>3</td>\n",
       "      <td>Friend of mine from Australia</td>\n",
       "      <td>So I friend of mine currently, living with a g...</td>\n",
       "      <td>0</td>\n",
       "      <td>0.000000</td>\n",
       "      <td>0.000000</td>\n",
       "      <td>0.0</td>\n",
       "      <td>0.0</td>\n",
       "      <td>0.0</td>\n",
       "      <td>0.000000</td>\n",
       "      <td>0.000000</td>\n",
       "      <td>...</td>\n",
       "      <td>0.0</td>\n",
       "      <td>0.00000</td>\n",
       "      <td>0.0</td>\n",
       "      <td>0.0</td>\n",
       "      <td>0.128701</td>\n",
       "      <td>0.000000</td>\n",
       "      <td>0.000000</td>\n",
       "      <td>0.000000</td>\n",
       "      <td>0.000000</td>\n",
       "      <td>0.000000</td>\n",
       "    </tr>\n",
       "    <tr>\n",
       "      <td>4</td>\n",
       "      <td>Retrieve Files from Webhost</td>\n",
       "      <td>I suppose I need a court order to obtain my fi...</td>\n",
       "      <td>0</td>\n",
       "      <td>0.312042</td>\n",
       "      <td>0.000000</td>\n",
       "      <td>0.0</td>\n",
       "      <td>0.0</td>\n",
       "      <td>0.0</td>\n",
       "      <td>0.000000</td>\n",
       "      <td>0.000000</td>\n",
       "      <td>...</td>\n",
       "      <td>0.0</td>\n",
       "      <td>0.00000</td>\n",
       "      <td>0.0</td>\n",
       "      <td>0.0</td>\n",
       "      <td>0.000000</td>\n",
       "      <td>0.257335</td>\n",
       "      <td>0.235214</td>\n",
       "      <td>0.000000</td>\n",
       "      <td>0.000000</td>\n",
       "      <td>0.206049</td>\n",
       "    </tr>\n",
       "  </tbody>\n",
       "</table>\n",
       "<p>5 rows × 103 columns</p>\n",
       "</div>"
      ],
      "text/plain": [
       "                                               title  \\\n",
       "0                          Balisong Knives in Canada   \n",
       "1               Need advices don’t know where to go.   \n",
       "2  AZ - Real Estate: mortgage not covering second...   \n",
       "3                      Friend of mine from Australia   \n",
       "4                        Retrieve Files from Webhost   \n",
       "\n",
       "                                            selftext  subreddit   account  \\\n",
       "0  Is it illegal to keep a balisong knife in cana...          0  0.000000   \n",
       "1  Need advices on my case\\n\\nLong story short i ...          0  0.000000   \n",
       "2  I just realized when refinancing that I might ...          0  0.000000   \n",
       "3  So I friend of mine currently, living with a g...          0  0.000000   \n",
       "4  I suppose I need a court order to obtain my fi...          0  0.312042   \n",
       "\n",
       "      advic  ago  ask  away       car      case  ...  time     told  tri  use  \\\n",
       "0  0.000000  0.0  0.0   0.0  0.000000  0.000000  ...   0.0  0.00000  0.0  0.0   \n",
       "1  0.180459  0.0  0.0   0.0  0.614282  0.102288  ...   0.0  0.31943  0.0  0.0   \n",
       "2  0.152586  0.0  0.0   0.0  0.000000  0.000000  ...   0.0  0.00000  0.0  0.0   \n",
       "3  0.000000  0.0  0.0   0.0  0.000000  0.000000  ...   0.0  0.00000  0.0  0.0   \n",
       "4  0.000000  0.0  0.0   0.0  0.000000  0.000000  ...   0.0  0.00000  0.0  0.0   \n",
       "\n",
       "       want       way      week      went      work      year  \n",
       "0  0.408798  0.000000  0.000000  0.000000  0.000000  0.000000  \n",
       "1  0.000000  0.000000  0.000000  0.295991  0.071212  0.000000  \n",
       "2  0.119649  0.000000  0.000000  0.000000  0.000000  0.124254  \n",
       "3  0.128701  0.000000  0.000000  0.000000  0.000000  0.000000  \n",
       "4  0.000000  0.257335  0.235214  0.000000  0.000000  0.206049  \n",
       "\n",
       "[5 rows x 103 columns]"
      ]
     },
     "execution_count": 41,
     "metadata": {},
     "output_type": "execute_result"
    }
   ],
   "source": [
    "df_basic_tvec = pd.concat((df[['title','selftext','subreddit']], \n",
    "                           df_text_tvec),axis='columns')\n",
    "df_basic_tvec.head()"
   ]
  },
  {
   "cell_type": "markdown",
   "metadata": {},
   "source": [
    "We will consider TFIDF vectorization an option during preprocessing and modeling. "
   ]
  },
  {
   "cell_type": "markdown",
   "metadata": {},
   "source": [
    "## Preprocessing"
   ]
  },
  {
   "cell_type": "markdown",
   "metadata": {},
   "source": [
    "I should choose if I want to lemmatize or stem (or do neither to) my data; both are different ways of reducing words to simpler forms, so multiple forms with the same root can be treated the same.\n",
    "\n",
    "This function will apply one or the other (or neither) to a column of strings."
   ]
  },
  {
   "cell_type": "code",
   "execution_count": 42,
   "metadata": {},
   "outputs": [],
   "source": [
    "# a function to tokenize, lemmatize/stem, and re-string a column of strings\n",
    "# note that strings lemmatized or stemmed will no longer fully respond to\n",
    "# unlemmatized/unstemmed stopwords\n",
    "def lemstemnone(which, col):\n",
    "    \n",
    "    if which == None:\n",
    "        which = 'None' # if statements expect which to be a string\n",
    "        \n",
    "    # remove non-letters, apply lowercase\n",
    "    col = col.map(lambda s: re.sub('[^\\w\\s]','',s).lower())\n",
    "    \n",
    "    # instantiate tokenizer\n",
    "    tokenizer = RegexpTokenizer(r'\\w+\\S+')\n",
    "    \n",
    "    if which.lower() == 'stem':\n",
    "        # instantiate stemmer\n",
    "        p_stemmer = PorterStemmer()\n",
    "        # apply tokenizer and stemmer and then re-string\n",
    "        col = col.map(lambda s: ' '.join([p_stemmer.stem(t)\n",
    "                                          for t in tokenizer.tokenize(s)]))\n",
    "        \n",
    "    elif which.lower() == 'lem' or which.lower() == 'lemmatize':\n",
    "        # instantiate lemmatizer\n",
    "        lemmatizer = WordNetLemmatizer()\n",
    "        # apply tokenizer and lemmatizer and then re-string\n",
    "        col = col.map(lambda s: ' '.join([lemmatizer.lemmatize(t)\n",
    "                                          for t in tokenizer.tokenize(s)]))\n",
    "        \n",
    "    else: # this section unnecessary, just for readability\n",
    "        pass # still edited text; already removed non-letters & lowercased\n",
    "    \n",
    "    return col"
   ]
  },
  {
   "cell_type": "markdown",
   "metadata": {},
   "source": [
    "We will use a stratified train/test split on the combined title and selftext, and then run different kinds of processing in pipelines as part of model selection. Our dataset is large enough that we are comfortable with the default .75/.25 split."
   ]
  },
  {
   "cell_type": "code",
   "execution_count": 43,
   "metadata": {},
   "outputs": [],
   "source": [
    "# lsn_which = 'lem' # lemmatize\n",
    "lsn_which = 'stem' # stem\n",
    "\n",
    "X = lemstemnone(lsn_which,df['title'] + ' ' + df['selftext']) # all text\n",
    "y = df['subreddit']\n",
    "\n",
    "seed = 1007\n",
    "cv_times = 5\n",
    "\n",
    "X_train, X_test, y_train, y_test = train_test_split(X, y,\n",
    "                                                    stratify=y,\n",
    "                                                    random_state=seed)"
   ]
  },
  {
   "cell_type": "markdown",
   "metadata": {},
   "source": [
    "We will also apply the same lemmatization to a list of stopwords, so that they are appropriately removed."
   ]
  },
  {
   "cell_type": "code",
   "execution_count": 44,
   "metadata": {},
   "outputs": [],
   "source": [
    "stops = set(lemstemnone(lsn_which, \n",
    "                        pd.Series(list(stop_words.ENGLISH_STOP_WORDS))))"
   ]
  },
  {
   "cell_type": "markdown",
   "metadata": {},
   "source": [
    "## Modeling\n",
    "\n",
    "We will measure all our models' accuracy to determine their usefulness, as incorrect predictions in either direction are equally bad."
   ]
  },
  {
   "cell_type": "markdown",
   "metadata": {},
   "source": [
    "### Baseline Model\n",
    "\n",
    "We will compare each model against other models and against a baseline that predicts `1`, or UK, for every input. "
   ]
  },
  {
   "cell_type": "code",
   "execution_count": 45,
   "metadata": {},
   "outputs": [
    {
     "name": "stdout",
     "output_type": "stream",
     "text": [
      "Daft Baseline\n",
      "Train Accuracy: 0.5\n",
      "Test Accuracy: 0.5\n"
     ]
    }
   ],
   "source": [
    "# baseline\n",
    "print('Daft Baseline')\n",
    "print('Train Accuracy:',np.mean(y_train == 1))\n",
    "print('Test Accuracy:',np.mean(y_test == 1))"
   ]
  },
  {
   "cell_type": "markdown",
   "metadata": {},
   "source": [
    "Because we stratified and had equal representation in our dataset, the baseline accuracy is exactly .5 for both the training data and the test data. This is, in a way, the absolute worst model possible; for binary classification, any model with < .5 accuracy could simply be inverted to beat .5 accuracy."
   ]
  },
  {
   "cell_type": "markdown",
   "metadata": {},
   "source": [
    "### Logistic Regression Model\n",
    "\n",
    "Often logistic regression is more useful for interpretability than prediction, but it is worth attempting on our text. We will use LASSO regularization to assist with feature selection, since we have at least 1000 potential features. We use TFIDF vectorizer because it is scaled, which is useful for regularized data."
   ]
  },
  {
   "cell_type": "markdown",
   "metadata": {},
   "source": [
    "We will need to convert the sparse array of TfidfVectorizer to an ordinary array in the pipeline."
   ]
  },
  {
   "cell_type": "code",
   "execution_count": 46,
   "metadata": {},
   "outputs": [],
   "source": [
    "class Desparse:\n",
    "    def fit(self, *args):\n",
    "        return self\n",
    "    def transform(self, arr):\n",
    "        try:\n",
    "            return arr.toarray()\n",
    "        except:\n",
    "            print('Not sparse!')\n",
    "            return arr"
   ]
  },
  {
   "cell_type": "code",
   "execution_count": 47,
   "metadata": {},
   "outputs": [
    {
     "name": "stdout",
     "output_type": "stream",
     "text": [
      "Wall time: 7min 36s\n"
     ]
    }
   ],
   "source": [
    "pipe_tvec_lr_params = {\n",
    "    'vec__ngram_range':((1,1),(1,2)),\n",
    "    'vec__stop_words':(None,stops),\n",
    "    'vec__max_features':(1000,5000),\n",
    "    'lr__C':np.logspace(-1.5,-.5,9)\n",
    "}\n",
    "pipe_tvec_lr = Pipeline([\n",
    "    ('vec', TfidfVectorizer()),\n",
    "    ('desparse', Desparse()),\n",
    "    ('lr', LogisticRegression(penalty='l1',solver='liblinear'))\n",
    "])\n",
    "\n",
    "\n",
    "gs_tvec_lr = GridSearchCV(pipe_tvec_lr, pipe_tvec_lr_params, cv=cv_times)\n",
    "%time gs_tvec_lr.fit(X_train, y_train)\n",
    "model_tvec_lr = gs_tvec_lr.best_estimator_"
   ]
  },
  {
   "cell_type": "code",
   "execution_count": 48,
   "metadata": {},
   "outputs": [
    {
     "data": {
      "text/plain": [
       "{'lr__C': 0.31622776601683794,\n",
       " 'vec__max_features': 1000,\n",
       " 'vec__ngram_range': (1, 1),\n",
       " 'vec__stop_words': {'',\n",
       "  'about',\n",
       "  'abov',\n",
       "  'across',\n",
       "  'after',\n",
       "  'afterward',\n",
       "  'again',\n",
       "  'against',\n",
       "  'all',\n",
       "  'almost',\n",
       "  'alon',\n",
       "  'along',\n",
       "  'alreadi',\n",
       "  'also',\n",
       "  'although',\n",
       "  'alway',\n",
       "  'am',\n",
       "  'among',\n",
       "  'amongst',\n",
       "  'amoungst',\n",
       "  'amount',\n",
       "  'an',\n",
       "  'and',\n",
       "  'ani',\n",
       "  'anoth',\n",
       "  'anyhow',\n",
       "  'anyon',\n",
       "  'anyth',\n",
       "  'anyway',\n",
       "  'anywher',\n",
       "  'are',\n",
       "  'around',\n",
       "  'as',\n",
       "  'at',\n",
       "  'back',\n",
       "  'be',\n",
       "  'becam',\n",
       "  'becaus',\n",
       "  'becom',\n",
       "  'been',\n",
       "  'befor',\n",
       "  'beforehand',\n",
       "  'behind',\n",
       "  'below',\n",
       "  'besid',\n",
       "  'between',\n",
       "  'beyond',\n",
       "  'bill',\n",
       "  'both',\n",
       "  'bottom',\n",
       "  'but',\n",
       "  'by',\n",
       "  'call',\n",
       "  'can',\n",
       "  'cannot',\n",
       "  'cant',\n",
       "  'co',\n",
       "  'con',\n",
       "  'could',\n",
       "  'couldnt',\n",
       "  'cri',\n",
       "  'de',\n",
       "  'describ',\n",
       "  'detail',\n",
       "  'do',\n",
       "  'done',\n",
       "  'down',\n",
       "  'due',\n",
       "  'dure',\n",
       "  'each',\n",
       "  'eg',\n",
       "  'eight',\n",
       "  'either',\n",
       "  'eleven',\n",
       "  'els',\n",
       "  'elsewher',\n",
       "  'empti',\n",
       "  'enough',\n",
       "  'etc',\n",
       "  'even',\n",
       "  'ever',\n",
       "  'everi',\n",
       "  'everyon',\n",
       "  'everyth',\n",
       "  'everywher',\n",
       "  'except',\n",
       "  'few',\n",
       "  'fifteen',\n",
       "  'fifti',\n",
       "  'fill',\n",
       "  'find',\n",
       "  'fire',\n",
       "  'first',\n",
       "  'five',\n",
       "  'for',\n",
       "  'former',\n",
       "  'formerli',\n",
       "  'forti',\n",
       "  'found',\n",
       "  'four',\n",
       "  'from',\n",
       "  'front',\n",
       "  'full',\n",
       "  'further',\n",
       "  'get',\n",
       "  'give',\n",
       "  'go',\n",
       "  'ha',\n",
       "  'had',\n",
       "  'hasnt',\n",
       "  'have',\n",
       "  'he',\n",
       "  'henc',\n",
       "  'her',\n",
       "  'here',\n",
       "  'hereaft',\n",
       "  'herebi',\n",
       "  'herein',\n",
       "  'hereupon',\n",
       "  'herself',\n",
       "  'hi',\n",
       "  'him',\n",
       "  'himself',\n",
       "  'how',\n",
       "  'howev',\n",
       "  'hundr',\n",
       "  'ie',\n",
       "  'if',\n",
       "  'in',\n",
       "  'inc',\n",
       "  'inde',\n",
       "  'interest',\n",
       "  'into',\n",
       "  'is',\n",
       "  'it',\n",
       "  'itself',\n",
       "  'keep',\n",
       "  'last',\n",
       "  'latter',\n",
       "  'latterli',\n",
       "  'least',\n",
       "  'less',\n",
       "  'ltd',\n",
       "  'made',\n",
       "  'mani',\n",
       "  'may',\n",
       "  'me',\n",
       "  'meanwhil',\n",
       "  'might',\n",
       "  'mill',\n",
       "  'mine',\n",
       "  'more',\n",
       "  'moreov',\n",
       "  'most',\n",
       "  'mostli',\n",
       "  'move',\n",
       "  'much',\n",
       "  'must',\n",
       "  'my',\n",
       "  'myself',\n",
       "  'name',\n",
       "  'neither',\n",
       "  'never',\n",
       "  'nevertheless',\n",
       "  'next',\n",
       "  'nine',\n",
       "  'no',\n",
       "  'nobodi',\n",
       "  'none',\n",
       "  'noon',\n",
       "  'nor',\n",
       "  'not',\n",
       "  'noth',\n",
       "  'now',\n",
       "  'nowher',\n",
       "  'of',\n",
       "  'off',\n",
       "  'often',\n",
       "  'on',\n",
       "  'onc',\n",
       "  'one',\n",
       "  'onli',\n",
       "  'onto',\n",
       "  'or',\n",
       "  'other',\n",
       "  'otherwis',\n",
       "  'our',\n",
       "  'ourselv',\n",
       "  'out',\n",
       "  'over',\n",
       "  'own',\n",
       "  'part',\n",
       "  'per',\n",
       "  'perhap',\n",
       "  'pleas',\n",
       "  'put',\n",
       "  'rather',\n",
       "  're',\n",
       "  'same',\n",
       "  'see',\n",
       "  'seem',\n",
       "  'seriou',\n",
       "  'sever',\n",
       "  'she',\n",
       "  'should',\n",
       "  'show',\n",
       "  'side',\n",
       "  'sinc',\n",
       "  'sincer',\n",
       "  'six',\n",
       "  'sixti',\n",
       "  'so',\n",
       "  'some',\n",
       "  'somehow',\n",
       "  'someon',\n",
       "  'someth',\n",
       "  'sometim',\n",
       "  'somewher',\n",
       "  'still',\n",
       "  'such',\n",
       "  'system',\n",
       "  'take',\n",
       "  'ten',\n",
       "  'than',\n",
       "  'that',\n",
       "  'the',\n",
       "  'their',\n",
       "  'them',\n",
       "  'themselv',\n",
       "  'then',\n",
       "  'thenc',\n",
       "  'there',\n",
       "  'thereaft',\n",
       "  'therebi',\n",
       "  'therefor',\n",
       "  'therein',\n",
       "  'thereupon',\n",
       "  'these',\n",
       "  'they',\n",
       "  'thi',\n",
       "  'thick',\n",
       "  'thin',\n",
       "  'third',\n",
       "  'those',\n",
       "  'though',\n",
       "  'three',\n",
       "  'through',\n",
       "  'throughout',\n",
       "  'thru',\n",
       "  'thu',\n",
       "  'to',\n",
       "  'togeth',\n",
       "  'too',\n",
       "  'top',\n",
       "  'toward',\n",
       "  'twelv',\n",
       "  'twenti',\n",
       "  'two',\n",
       "  'un',\n",
       "  'under',\n",
       "  'until',\n",
       "  'up',\n",
       "  'upon',\n",
       "  'us',\n",
       "  'veri',\n",
       "  'via',\n",
       "  'wa',\n",
       "  'we',\n",
       "  'well',\n",
       "  'were',\n",
       "  'what',\n",
       "  'whatev',\n",
       "  'when',\n",
       "  'whenc',\n",
       "  'whenev',\n",
       "  'where',\n",
       "  'wherea',\n",
       "  'whereaft',\n",
       "  'wherebi',\n",
       "  'wherein',\n",
       "  'whereupon',\n",
       "  'wherev',\n",
       "  'whether',\n",
       "  'whi',\n",
       "  'which',\n",
       "  'while',\n",
       "  'whither',\n",
       "  'who',\n",
       "  'whoever',\n",
       "  'whole',\n",
       "  'whom',\n",
       "  'whose',\n",
       "  'will',\n",
       "  'with',\n",
       "  'within',\n",
       "  'without',\n",
       "  'would',\n",
       "  'yet',\n",
       "  'you',\n",
       "  'your',\n",
       "  'yourself',\n",
       "  'yourselv'}}"
      ]
     },
     "execution_count": 48,
     "metadata": {},
     "output_type": "execute_result"
    }
   ],
   "source": [
    "gs_tvec_lr.best_params_"
   ]
  },
  {
   "cell_type": "code",
   "execution_count": 49,
   "metadata": {},
   "outputs": [
    {
     "name": "stdout",
     "output_type": "stream",
     "text": [
      "TfidfVectorizer & Logistic Regression\n",
      "Train Accuracy: 0.8022222222222222\n",
      "Test Accuracy: 0.7673333333333333\n"
     ]
    }
   ],
   "source": [
    "print('TfidfVectorizer & Logistic Regression')\n",
    "print('Train Accuracy:',\n",
    "      model_tvec_lr.score(X_train, y_train))\n",
    "print('Test Accuracy:',\n",
    "      model_tvec_lr.score(X_test, y_test))"
   ]
  },
  {
   "cell_type": "markdown",
   "metadata": {},
   "source": [
    "The logistic regression outperformed our baseline, but left much to be desired, as it suffered from some bias. It was not, however, too seriously overfit."
   ]
  },
  {
   "cell_type": "code",
   "execution_count": 50,
   "metadata": {},
   "outputs": [
    {
     "data": {
      "text/plain": [
       "array([[641, 109],\n",
       "       [240, 510]], dtype=int64)"
      ]
     },
     "execution_count": 50,
     "metadata": {},
     "output_type": "execute_result"
    }
   ],
   "source": [
    "yh_test = model_tvec_lr.predict(X_test)\n",
    "confusion_matrix(y_test, yh_test)\n",
    "\n",
    "#    pf pt\n",
    "# af tn fp\n",
    "# at fn tp"
   ]
  },
  {
   "cell_type": "markdown",
   "metadata": {},
   "source": [
    "The logistic regression was more likely to predict a post to be non-UK than to be UK. "
   ]
  },
  {
   "cell_type": "markdown",
   "metadata": {},
   "source": [
    "### Multinomial Naive Bayes Model\n",
    "\n",
    "Naive Bayes is a type of classification model that assumes all features are independent of one another. This assumption is almost certainly untrue for our data, but the model may still prove useful. Naive Bayes are also known to perform well on natural language data.\n",
    "\n",
    "A multinomial Naive Bayes is appropriate for count vectorized data. We will implement it on the text. "
   ]
  },
  {
   "cell_type": "code",
   "execution_count": 51,
   "metadata": {},
   "outputs": [
    {
     "name": "stdout",
     "output_type": "stream",
     "text": [
      "Wall time: 3min 7s\n"
     ]
    }
   ],
   "source": [
    "pipe_cvec_bayes_params = {\n",
    "    'vec__ngram_range':((1,1),(1,2)),\n",
    "    'vec__stop_words':(None,stops),\n",
    "    'vec__max_features':(1000,5000),\n",
    "    'bayes__alpha':np.logspace(-3,0,4)\n",
    "}\n",
    "\n",
    "pipe_cvec_bayes = Pipeline([\n",
    "    ('vec', CountVectorizer()),\n",
    "    ('bayes', MultinomialNB())\n",
    "])\n",
    "\n",
    "\n",
    "gs_cvec_bayes = GridSearchCV(pipe_cvec_bayes, pipe_cvec_bayes_params, \n",
    "                             cv=cv_times)\n",
    "%time gs_cvec_bayes.fit(X_train, y_train)\n",
    "model_cvec_bayes = gs_cvec_bayes.best_estimator_"
   ]
  },
  {
   "cell_type": "code",
   "execution_count": 52,
   "metadata": {},
   "outputs": [
    {
     "data": {
      "text/plain": [
       "{'bayes__alpha': 0.01,\n",
       " 'vec__max_features': 5000,\n",
       " 'vec__ngram_range': (1, 2),\n",
       " 'vec__stop_words': {'',\n",
       "  'about',\n",
       "  'abov',\n",
       "  'across',\n",
       "  'after',\n",
       "  'afterward',\n",
       "  'again',\n",
       "  'against',\n",
       "  'all',\n",
       "  'almost',\n",
       "  'alon',\n",
       "  'along',\n",
       "  'alreadi',\n",
       "  'also',\n",
       "  'although',\n",
       "  'alway',\n",
       "  'am',\n",
       "  'among',\n",
       "  'amongst',\n",
       "  'amoungst',\n",
       "  'amount',\n",
       "  'an',\n",
       "  'and',\n",
       "  'ani',\n",
       "  'anoth',\n",
       "  'anyhow',\n",
       "  'anyon',\n",
       "  'anyth',\n",
       "  'anyway',\n",
       "  'anywher',\n",
       "  'are',\n",
       "  'around',\n",
       "  'as',\n",
       "  'at',\n",
       "  'back',\n",
       "  'be',\n",
       "  'becam',\n",
       "  'becaus',\n",
       "  'becom',\n",
       "  'been',\n",
       "  'befor',\n",
       "  'beforehand',\n",
       "  'behind',\n",
       "  'below',\n",
       "  'besid',\n",
       "  'between',\n",
       "  'beyond',\n",
       "  'bill',\n",
       "  'both',\n",
       "  'bottom',\n",
       "  'but',\n",
       "  'by',\n",
       "  'call',\n",
       "  'can',\n",
       "  'cannot',\n",
       "  'cant',\n",
       "  'co',\n",
       "  'con',\n",
       "  'could',\n",
       "  'couldnt',\n",
       "  'cri',\n",
       "  'de',\n",
       "  'describ',\n",
       "  'detail',\n",
       "  'do',\n",
       "  'done',\n",
       "  'down',\n",
       "  'due',\n",
       "  'dure',\n",
       "  'each',\n",
       "  'eg',\n",
       "  'eight',\n",
       "  'either',\n",
       "  'eleven',\n",
       "  'els',\n",
       "  'elsewher',\n",
       "  'empti',\n",
       "  'enough',\n",
       "  'etc',\n",
       "  'even',\n",
       "  'ever',\n",
       "  'everi',\n",
       "  'everyon',\n",
       "  'everyth',\n",
       "  'everywher',\n",
       "  'except',\n",
       "  'few',\n",
       "  'fifteen',\n",
       "  'fifti',\n",
       "  'fill',\n",
       "  'find',\n",
       "  'fire',\n",
       "  'first',\n",
       "  'five',\n",
       "  'for',\n",
       "  'former',\n",
       "  'formerli',\n",
       "  'forti',\n",
       "  'found',\n",
       "  'four',\n",
       "  'from',\n",
       "  'front',\n",
       "  'full',\n",
       "  'further',\n",
       "  'get',\n",
       "  'give',\n",
       "  'go',\n",
       "  'ha',\n",
       "  'had',\n",
       "  'hasnt',\n",
       "  'have',\n",
       "  'he',\n",
       "  'henc',\n",
       "  'her',\n",
       "  'here',\n",
       "  'hereaft',\n",
       "  'herebi',\n",
       "  'herein',\n",
       "  'hereupon',\n",
       "  'herself',\n",
       "  'hi',\n",
       "  'him',\n",
       "  'himself',\n",
       "  'how',\n",
       "  'howev',\n",
       "  'hundr',\n",
       "  'ie',\n",
       "  'if',\n",
       "  'in',\n",
       "  'inc',\n",
       "  'inde',\n",
       "  'interest',\n",
       "  'into',\n",
       "  'is',\n",
       "  'it',\n",
       "  'itself',\n",
       "  'keep',\n",
       "  'last',\n",
       "  'latter',\n",
       "  'latterli',\n",
       "  'least',\n",
       "  'less',\n",
       "  'ltd',\n",
       "  'made',\n",
       "  'mani',\n",
       "  'may',\n",
       "  'me',\n",
       "  'meanwhil',\n",
       "  'might',\n",
       "  'mill',\n",
       "  'mine',\n",
       "  'more',\n",
       "  'moreov',\n",
       "  'most',\n",
       "  'mostli',\n",
       "  'move',\n",
       "  'much',\n",
       "  'must',\n",
       "  'my',\n",
       "  'myself',\n",
       "  'name',\n",
       "  'neither',\n",
       "  'never',\n",
       "  'nevertheless',\n",
       "  'next',\n",
       "  'nine',\n",
       "  'no',\n",
       "  'nobodi',\n",
       "  'none',\n",
       "  'noon',\n",
       "  'nor',\n",
       "  'not',\n",
       "  'noth',\n",
       "  'now',\n",
       "  'nowher',\n",
       "  'of',\n",
       "  'off',\n",
       "  'often',\n",
       "  'on',\n",
       "  'onc',\n",
       "  'one',\n",
       "  'onli',\n",
       "  'onto',\n",
       "  'or',\n",
       "  'other',\n",
       "  'otherwis',\n",
       "  'our',\n",
       "  'ourselv',\n",
       "  'out',\n",
       "  'over',\n",
       "  'own',\n",
       "  'part',\n",
       "  'per',\n",
       "  'perhap',\n",
       "  'pleas',\n",
       "  'put',\n",
       "  'rather',\n",
       "  're',\n",
       "  'same',\n",
       "  'see',\n",
       "  'seem',\n",
       "  'seriou',\n",
       "  'sever',\n",
       "  'she',\n",
       "  'should',\n",
       "  'show',\n",
       "  'side',\n",
       "  'sinc',\n",
       "  'sincer',\n",
       "  'six',\n",
       "  'sixti',\n",
       "  'so',\n",
       "  'some',\n",
       "  'somehow',\n",
       "  'someon',\n",
       "  'someth',\n",
       "  'sometim',\n",
       "  'somewher',\n",
       "  'still',\n",
       "  'such',\n",
       "  'system',\n",
       "  'take',\n",
       "  'ten',\n",
       "  'than',\n",
       "  'that',\n",
       "  'the',\n",
       "  'their',\n",
       "  'them',\n",
       "  'themselv',\n",
       "  'then',\n",
       "  'thenc',\n",
       "  'there',\n",
       "  'thereaft',\n",
       "  'therebi',\n",
       "  'therefor',\n",
       "  'therein',\n",
       "  'thereupon',\n",
       "  'these',\n",
       "  'they',\n",
       "  'thi',\n",
       "  'thick',\n",
       "  'thin',\n",
       "  'third',\n",
       "  'those',\n",
       "  'though',\n",
       "  'three',\n",
       "  'through',\n",
       "  'throughout',\n",
       "  'thru',\n",
       "  'thu',\n",
       "  'to',\n",
       "  'togeth',\n",
       "  'too',\n",
       "  'top',\n",
       "  'toward',\n",
       "  'twelv',\n",
       "  'twenti',\n",
       "  'two',\n",
       "  'un',\n",
       "  'under',\n",
       "  'until',\n",
       "  'up',\n",
       "  'upon',\n",
       "  'us',\n",
       "  'veri',\n",
       "  'via',\n",
       "  'wa',\n",
       "  'we',\n",
       "  'well',\n",
       "  'were',\n",
       "  'what',\n",
       "  'whatev',\n",
       "  'when',\n",
       "  'whenc',\n",
       "  'whenev',\n",
       "  'where',\n",
       "  'wherea',\n",
       "  'whereaft',\n",
       "  'wherebi',\n",
       "  'wherein',\n",
       "  'whereupon',\n",
       "  'wherev',\n",
       "  'whether',\n",
       "  'whi',\n",
       "  'which',\n",
       "  'while',\n",
       "  'whither',\n",
       "  'who',\n",
       "  'whoever',\n",
       "  'whole',\n",
       "  'whom',\n",
       "  'whose',\n",
       "  'will',\n",
       "  'with',\n",
       "  'within',\n",
       "  'without',\n",
       "  'would',\n",
       "  'yet',\n",
       "  'you',\n",
       "  'your',\n",
       "  'yourself',\n",
       "  'yourselv'}}"
      ]
     },
     "execution_count": 52,
     "metadata": {},
     "output_type": "execute_result"
    }
   ],
   "source": [
    "gs_cvec_bayes.best_params_"
   ]
  },
  {
   "cell_type": "code",
   "execution_count": 53,
   "metadata": {},
   "outputs": [
    {
     "name": "stdout",
     "output_type": "stream",
     "text": [
      "CountVectorizer & Naive Bayes\n",
      "Train Accuracy: 0.9075555555555556\n",
      "Test Accuracy: 0.8526666666666667\n"
     ]
    }
   ],
   "source": [
    "print('CountVectorizer & Naive Bayes')\n",
    "print('Train Accuracy:',\n",
    "      model_cvec_bayes.score(X_train, y_train))\n",
    "print('Test Accuracy:',\n",
    "      model_cvec_bayes.score(X_test, y_test))"
   ]
  },
  {
   "cell_type": "markdown",
   "metadata": {},
   "source": [
    "This Multinomial Naive Bayes model was quite successful, reaching 85% accuracy. Variance is non-zero, but the model was good."
   ]
  },
  {
   "cell_type": "code",
   "execution_count": 54,
   "metadata": {},
   "outputs": [
    {
     "data": {
      "text/plain": [
       "array([[655,  95],\n",
       "       [126, 624]], dtype=int64)"
      ]
     },
     "execution_count": 54,
     "metadata": {},
     "output_type": "execute_result"
    }
   ],
   "source": [
    "yh_test = model_cvec_bayes.predict(X_test)\n",
    "yh_final = yh_test\n",
    "confusion_matrix(y_test, yh_test)\n",
    "\n",
    "#    pf pt\n",
    "# af tn fp\n",
    "# at fn tp"
   ]
  },
  {
   "cell_type": "markdown",
   "metadata": {},
   "source": [
    "This model was somewhat more likely to predict non-UK than UK, but not to the same degree as the logistic regression."
   ]
  },
  {
   "cell_type": "markdown",
   "metadata": {},
   "source": [
    "### Gaussian Naive Bayes Model\n",
    "\n",
    "A Gaussian Naive Bayes is appropriate for TFIDF vectorized data. We will implement it on the text."
   ]
  },
  {
   "cell_type": "code",
   "execution_count": 55,
   "metadata": {},
   "outputs": [
    {
     "name": "stdout",
     "output_type": "stream",
     "text": [
      "Wall time: 1min 28s\n"
     ]
    }
   ],
   "source": [
    "pipe_tvec_bayes_params = {\n",
    "    'vec__ngram_range':((1,1),(1,2)),\n",
    "    'vec__stop_words':(None,stops),\n",
    "    'vec__max_features':(500,1000,5000)\n",
    "}\n",
    "\n",
    "pipe_tvec_bayes = Pipeline([\n",
    "    ('vec', TfidfVectorizer()),\n",
    "    ('desparse', Desparse()),\n",
    "    ('bayes', GaussianNB())\n",
    "])\n",
    "\n",
    "\n",
    "gs_tvec_bayes = GridSearchCV(pipe_tvec_bayes, pipe_tvec_bayes_params, \n",
    "                             cv=cv_times)\n",
    "%time gs_tvec_bayes.fit(X_train, y_train)\n",
    "model_tvec_bayes = gs_tvec_bayes.best_estimator_"
   ]
  },
  {
   "cell_type": "code",
   "execution_count": 56,
   "metadata": {},
   "outputs": [
    {
     "data": {
      "text/plain": [
       "{'vec__max_features': 5000,\n",
       " 'vec__ngram_range': (1, 2),\n",
       " 'vec__stop_words': None}"
      ]
     },
     "execution_count": 56,
     "metadata": {},
     "output_type": "execute_result"
    }
   ],
   "source": [
    "gs_tvec_bayes.best_params_"
   ]
  },
  {
   "cell_type": "code",
   "execution_count": 57,
   "metadata": {},
   "outputs": [
    {
     "name": "stdout",
     "output_type": "stream",
     "text": [
      "TfidfVectorizer & Naive Bayes\n",
      "Train Accuracy: 0.9186666666666666\n",
      "Test Accuracy: 0.8093333333333333\n"
     ]
    }
   ],
   "source": [
    "print('TfidfVectorizer & Naive Bayes')\n",
    "print('Train Accuracy:',\n",
    "      model_tvec_bayes.score(X_train, y_train))\n",
    "print('Test Accuracy:',\n",
    "      model_tvec_bayes.score(X_test, y_test))"
   ]
  },
  {
   "cell_type": "markdown",
   "metadata": {},
   "source": [
    "This Gaussian Naive Bayes model was more overfit than the Multinomial Naive Bayes model, and had a lower test accuracy."
   ]
  },
  {
   "cell_type": "code",
   "execution_count": 58,
   "metadata": {},
   "outputs": [
    {
     "data": {
      "text/plain": [
       "array([[594, 156],\n",
       "       [130, 620]], dtype=int64)"
      ]
     },
     "execution_count": 58,
     "metadata": {},
     "output_type": "execute_result"
    }
   ],
   "source": [
    "yh_test = model_tvec_bayes.predict(X_test)\n",
    "confusion_matrix(y_test, yh_test)\n",
    "#    pf pt\n",
    "# af tn fp\n",
    "# at fn tp"
   ]
  },
  {
   "cell_type": "markdown",
   "metadata": {},
   "source": [
    "This model was somewhat more likely to predict UK."
   ]
  },
  {
   "cell_type": "markdown",
   "metadata": {},
   "source": [
    "### Support Vector Machine Model\n",
    "\n",
    "A SVM 'draws' a 'line' across a warped version of our data that attempts to separate our different classes. It requires scaled data."
   ]
  },
  {
   "cell_type": "code",
   "execution_count": 59,
   "metadata": {},
   "outputs": [
    {
     "name": "stdout",
     "output_type": "stream",
     "text": [
      "Wall time: 34min 19s\n"
     ]
    }
   ],
   "source": [
    "pipe_tvec_svm_params = {\n",
    "    'vec__ngram_range':((1,1),(1,2),(2,2)),\n",
    "    'svm__C':np.linspace(1.5,1.8,7)\n",
    "}\n",
    "\n",
    "pipe_tvec_svm = Pipeline([\n",
    "    ('vec', TfidfVectorizer(max_features=1000, \n",
    "                            stop_words=stops)),\n",
    "    ('desparse',Desparse()),\n",
    "    ('svm', SVC(kernel='rbf',\n",
    "                gamma='scale',\n",
    "                max_iter=1e4))\n",
    "])\n",
    "\n",
    "\n",
    "gs_tvec_svm = GridSearchCV(pipe_tvec_svm, pipe_tvec_svm_params, \n",
    "                           cv=cv_times)\n",
    "%time gs_tvec_svm.fit(X_train, y_train)\n",
    "model_tvec_svm = gs_tvec_svm.best_estimator_"
   ]
  },
  {
   "cell_type": "code",
   "execution_count": 60,
   "metadata": {},
   "outputs": [
    {
     "data": {
      "text/plain": [
       "{'svm__C': 1.65, 'vec__ngram_range': (1, 1)}"
      ]
     },
     "execution_count": 60,
     "metadata": {},
     "output_type": "execute_result"
    }
   ],
   "source": [
    "gs_tvec_svm.best_params_"
   ]
  },
  {
   "cell_type": "code",
   "execution_count": 61,
   "metadata": {},
   "outputs": [
    {
     "name": "stdout",
     "output_type": "stream",
     "text": [
      "TfidfVectorizer & Support Vector Machine\n",
      "Train Accuracy: 0.992\n",
      "Test Accuracy: 0.8266666666666667\n"
     ]
    }
   ],
   "source": [
    "print('TfidfVectorizer & Support Vector Machine')\n",
    "print('Train Accuracy:',\n",
    "      model_tvec_svm.score(X_train, y_train))\n",
    "print('Test Accuracy:',\n",
    "      model_tvec_svm.score(X_test, y_test))"
   ]
  },
  {
   "cell_type": "markdown",
   "metadata": {},
   "source": [
    "The SVM performed fairly well, with 83% accuracy on the test data. It was, however, very overfit, with notable variance. "
   ]
  },
  {
   "cell_type": "code",
   "execution_count": 62,
   "metadata": {},
   "outputs": [
    {
     "data": {
      "text/plain": [
       "array([[633, 117],\n",
       "       [143, 607]], dtype=int64)"
      ]
     },
     "execution_count": 62,
     "metadata": {},
     "output_type": "execute_result"
    }
   ],
   "source": [
    "yh_test = model_tvec_svm.predict(X_test)\n",
    "confusion_matrix(y_test, yh_test)\n",
    "\n",
    "#    pf pt\n",
    "# af tn fp\n",
    "# at fn tp"
   ]
  },
  {
   "cell_type": "markdown",
   "metadata": {},
   "source": [
    "The SVM was somewhat more likely to predict non-UK."
   ]
  },
  {
   "cell_type": "markdown",
   "metadata": {},
   "source": [
    "### AdaBoost Model\n",
    "\n",
    "AdaBoost is a boosting model based on the principles of stumped decision trees. It continually improves its model with each iteration."
   ]
  },
  {
   "cell_type": "code",
   "execution_count": 63,
   "metadata": {},
   "outputs": [
    {
     "name": "stdout",
     "output_type": "stream",
     "text": [
      "Wall time: 6min 12s\n"
     ]
    }
   ],
   "source": [
    "pipe_cvec_abc_params = {\n",
    "    'vec__ngram_range':((1,1),(1,2)),\n",
    "    'vec__stop_words':(None,stops),\n",
    "    'vec__max_features':[500,1000],\n",
    "    'abc__n_estimators':(100,500)\n",
    "}\n",
    "\n",
    "pipe_cvec_abc = Pipeline([\n",
    "    ('vec', CountVectorizer()),\n",
    "    ('abc', AdaBoostClassifier())\n",
    "])\n",
    "\n",
    "\n",
    "gs_cvec_abc = GridSearchCV(pipe_cvec_abc, pipe_cvec_abc_params, \n",
    "                           cv=cv_times)\n",
    "%time gs_cvec_abc.fit(X_train, y_train)\n",
    "model_cvec_abc = gs_cvec_abc.best_estimator_"
   ]
  },
  {
   "cell_type": "code",
   "execution_count": 64,
   "metadata": {},
   "outputs": [
    {
     "data": {
      "text/plain": [
       "{'abc__n_estimators': 500,\n",
       " 'vec__max_features': 1000,\n",
       " 'vec__ngram_range': (1, 1),\n",
       " 'vec__stop_words': {'',\n",
       "  'about',\n",
       "  'abov',\n",
       "  'across',\n",
       "  'after',\n",
       "  'afterward',\n",
       "  'again',\n",
       "  'against',\n",
       "  'all',\n",
       "  'almost',\n",
       "  'alon',\n",
       "  'along',\n",
       "  'alreadi',\n",
       "  'also',\n",
       "  'although',\n",
       "  'alway',\n",
       "  'am',\n",
       "  'among',\n",
       "  'amongst',\n",
       "  'amoungst',\n",
       "  'amount',\n",
       "  'an',\n",
       "  'and',\n",
       "  'ani',\n",
       "  'anoth',\n",
       "  'anyhow',\n",
       "  'anyon',\n",
       "  'anyth',\n",
       "  'anyway',\n",
       "  'anywher',\n",
       "  'are',\n",
       "  'around',\n",
       "  'as',\n",
       "  'at',\n",
       "  'back',\n",
       "  'be',\n",
       "  'becam',\n",
       "  'becaus',\n",
       "  'becom',\n",
       "  'been',\n",
       "  'befor',\n",
       "  'beforehand',\n",
       "  'behind',\n",
       "  'below',\n",
       "  'besid',\n",
       "  'between',\n",
       "  'beyond',\n",
       "  'bill',\n",
       "  'both',\n",
       "  'bottom',\n",
       "  'but',\n",
       "  'by',\n",
       "  'call',\n",
       "  'can',\n",
       "  'cannot',\n",
       "  'cant',\n",
       "  'co',\n",
       "  'con',\n",
       "  'could',\n",
       "  'couldnt',\n",
       "  'cri',\n",
       "  'de',\n",
       "  'describ',\n",
       "  'detail',\n",
       "  'do',\n",
       "  'done',\n",
       "  'down',\n",
       "  'due',\n",
       "  'dure',\n",
       "  'each',\n",
       "  'eg',\n",
       "  'eight',\n",
       "  'either',\n",
       "  'eleven',\n",
       "  'els',\n",
       "  'elsewher',\n",
       "  'empti',\n",
       "  'enough',\n",
       "  'etc',\n",
       "  'even',\n",
       "  'ever',\n",
       "  'everi',\n",
       "  'everyon',\n",
       "  'everyth',\n",
       "  'everywher',\n",
       "  'except',\n",
       "  'few',\n",
       "  'fifteen',\n",
       "  'fifti',\n",
       "  'fill',\n",
       "  'find',\n",
       "  'fire',\n",
       "  'first',\n",
       "  'five',\n",
       "  'for',\n",
       "  'former',\n",
       "  'formerli',\n",
       "  'forti',\n",
       "  'found',\n",
       "  'four',\n",
       "  'from',\n",
       "  'front',\n",
       "  'full',\n",
       "  'further',\n",
       "  'get',\n",
       "  'give',\n",
       "  'go',\n",
       "  'ha',\n",
       "  'had',\n",
       "  'hasnt',\n",
       "  'have',\n",
       "  'he',\n",
       "  'henc',\n",
       "  'her',\n",
       "  'here',\n",
       "  'hereaft',\n",
       "  'herebi',\n",
       "  'herein',\n",
       "  'hereupon',\n",
       "  'herself',\n",
       "  'hi',\n",
       "  'him',\n",
       "  'himself',\n",
       "  'how',\n",
       "  'howev',\n",
       "  'hundr',\n",
       "  'ie',\n",
       "  'if',\n",
       "  'in',\n",
       "  'inc',\n",
       "  'inde',\n",
       "  'interest',\n",
       "  'into',\n",
       "  'is',\n",
       "  'it',\n",
       "  'itself',\n",
       "  'keep',\n",
       "  'last',\n",
       "  'latter',\n",
       "  'latterli',\n",
       "  'least',\n",
       "  'less',\n",
       "  'ltd',\n",
       "  'made',\n",
       "  'mani',\n",
       "  'may',\n",
       "  'me',\n",
       "  'meanwhil',\n",
       "  'might',\n",
       "  'mill',\n",
       "  'mine',\n",
       "  'more',\n",
       "  'moreov',\n",
       "  'most',\n",
       "  'mostli',\n",
       "  'move',\n",
       "  'much',\n",
       "  'must',\n",
       "  'my',\n",
       "  'myself',\n",
       "  'name',\n",
       "  'neither',\n",
       "  'never',\n",
       "  'nevertheless',\n",
       "  'next',\n",
       "  'nine',\n",
       "  'no',\n",
       "  'nobodi',\n",
       "  'none',\n",
       "  'noon',\n",
       "  'nor',\n",
       "  'not',\n",
       "  'noth',\n",
       "  'now',\n",
       "  'nowher',\n",
       "  'of',\n",
       "  'off',\n",
       "  'often',\n",
       "  'on',\n",
       "  'onc',\n",
       "  'one',\n",
       "  'onli',\n",
       "  'onto',\n",
       "  'or',\n",
       "  'other',\n",
       "  'otherwis',\n",
       "  'our',\n",
       "  'ourselv',\n",
       "  'out',\n",
       "  'over',\n",
       "  'own',\n",
       "  'part',\n",
       "  'per',\n",
       "  'perhap',\n",
       "  'pleas',\n",
       "  'put',\n",
       "  'rather',\n",
       "  're',\n",
       "  'same',\n",
       "  'see',\n",
       "  'seem',\n",
       "  'seriou',\n",
       "  'sever',\n",
       "  'she',\n",
       "  'should',\n",
       "  'show',\n",
       "  'side',\n",
       "  'sinc',\n",
       "  'sincer',\n",
       "  'six',\n",
       "  'sixti',\n",
       "  'so',\n",
       "  'some',\n",
       "  'somehow',\n",
       "  'someon',\n",
       "  'someth',\n",
       "  'sometim',\n",
       "  'somewher',\n",
       "  'still',\n",
       "  'such',\n",
       "  'system',\n",
       "  'take',\n",
       "  'ten',\n",
       "  'than',\n",
       "  'that',\n",
       "  'the',\n",
       "  'their',\n",
       "  'them',\n",
       "  'themselv',\n",
       "  'then',\n",
       "  'thenc',\n",
       "  'there',\n",
       "  'thereaft',\n",
       "  'therebi',\n",
       "  'therefor',\n",
       "  'therein',\n",
       "  'thereupon',\n",
       "  'these',\n",
       "  'they',\n",
       "  'thi',\n",
       "  'thick',\n",
       "  'thin',\n",
       "  'third',\n",
       "  'those',\n",
       "  'though',\n",
       "  'three',\n",
       "  'through',\n",
       "  'throughout',\n",
       "  'thru',\n",
       "  'thu',\n",
       "  'to',\n",
       "  'togeth',\n",
       "  'too',\n",
       "  'top',\n",
       "  'toward',\n",
       "  'twelv',\n",
       "  'twenti',\n",
       "  'two',\n",
       "  'un',\n",
       "  'under',\n",
       "  'until',\n",
       "  'up',\n",
       "  'upon',\n",
       "  'us',\n",
       "  'veri',\n",
       "  'via',\n",
       "  'wa',\n",
       "  'we',\n",
       "  'well',\n",
       "  'were',\n",
       "  'what',\n",
       "  'whatev',\n",
       "  'when',\n",
       "  'whenc',\n",
       "  'whenev',\n",
       "  'where',\n",
       "  'wherea',\n",
       "  'whereaft',\n",
       "  'wherebi',\n",
       "  'wherein',\n",
       "  'whereupon',\n",
       "  'wherev',\n",
       "  'whether',\n",
       "  'whi',\n",
       "  'which',\n",
       "  'while',\n",
       "  'whither',\n",
       "  'who',\n",
       "  'whoever',\n",
       "  'whole',\n",
       "  'whom',\n",
       "  'whose',\n",
       "  'will',\n",
       "  'with',\n",
       "  'within',\n",
       "  'without',\n",
       "  'would',\n",
       "  'yet',\n",
       "  'you',\n",
       "  'your',\n",
       "  'yourself',\n",
       "  'yourselv'}}"
      ]
     },
     "execution_count": 64,
     "metadata": {},
     "output_type": "execute_result"
    }
   ],
   "source": [
    "gs_cvec_abc.best_params_"
   ]
  },
  {
   "cell_type": "code",
   "execution_count": 65,
   "metadata": {},
   "outputs": [
    {
     "name": "stdout",
     "output_type": "stream",
     "text": [
      "CountVectorizer & AdaBoost\n",
      "Train Accuracy: 0.9315555555555556\n",
      "Test Accuracy: 0.8006666666666666\n"
     ]
    }
   ],
   "source": [
    "print('CountVectorizer & AdaBoost')\n",
    "print('Train Accuracy:',\n",
    "      model_cvec_abc.score(X_train, y_train))\n",
    "print('Test Accuracy:',\n",
    "      model_cvec_abc.score(X_test, y_test))"
   ]
  },
  {
   "cell_type": "markdown",
   "metadata": {},
   "source": [
    "AdaBoost performed fairly well, with a test accuracy of about 80%. Variance was not high, though bias held it back."
   ]
  },
  {
   "cell_type": "code",
   "execution_count": 66,
   "metadata": {},
   "outputs": [
    {
     "data": {
      "text/plain": [
       "array([[615, 135],\n",
       "       [164, 586]], dtype=int64)"
      ]
     },
     "execution_count": 66,
     "metadata": {},
     "output_type": "execute_result"
    }
   ],
   "source": [
    "yh_test = model_cvec_abc.predict(X_test)\n",
    "confusion_matrix(y_test, yh_test)\n",
    "\n",
    "#    pf pt\n",
    "# af tn fp\n",
    "# at fn tp"
   ]
  },
  {
   "cell_type": "markdown",
   "metadata": {},
   "source": [
    "AdaBoost, like most but not all of our models, was more likely to predict non-UK."
   ]
  },
  {
   "cell_type": "markdown",
   "metadata": {},
   "source": [
    "### $k$-Nearest Neighbors Model\n",
    "\n",
    "A kNN model predicts a datum's class based on its 'distance' to other points of other classes. In our context, that 'distance' is in a many-dimensional wordspace which ought to be scaled."
   ]
  },
  {
   "cell_type": "code",
   "execution_count": 67,
   "metadata": {},
   "outputs": [
    {
     "name": "stdout",
     "output_type": "stream",
     "text": [
      "Wall time: 1min 48s\n"
     ]
    }
   ],
   "source": [
    "pipe_tvec_knn_params = {\n",
    "    'vec__ngram_range':((1,1),(1,2)),\n",
    "    'vec__stop_words':(None,stops),\n",
    "    'vec__max_features':[500,1000],\n",
    "    'knn__n_neighbors':(5, 21)\n",
    "}\n",
    "\n",
    "pipe_tvec_knn = Pipeline([\n",
    "    ('vec', TfidfVectorizer()),\n",
    "    ('knn', KNeighborsClassifier())\n",
    "])\n",
    "\n",
    "\n",
    "gs_tvec_knn = GridSearchCV(pipe_tvec_knn, pipe_tvec_knn_params, \n",
    "                           cv=cv_times)\n",
    "%time gs_tvec_knn.fit(X_train, y_train)\n",
    "model_tvec_knn = gs_tvec_knn.best_estimator_"
   ]
  },
  {
   "cell_type": "code",
   "execution_count": 68,
   "metadata": {},
   "outputs": [
    {
     "data": {
      "text/plain": [
       "{'knn__n_neighbors': 21,\n",
       " 'vec__max_features': 1000,\n",
       " 'vec__ngram_range': (1, 1),\n",
       " 'vec__stop_words': {'',\n",
       "  'about',\n",
       "  'abov',\n",
       "  'across',\n",
       "  'after',\n",
       "  'afterward',\n",
       "  'again',\n",
       "  'against',\n",
       "  'all',\n",
       "  'almost',\n",
       "  'alon',\n",
       "  'along',\n",
       "  'alreadi',\n",
       "  'also',\n",
       "  'although',\n",
       "  'alway',\n",
       "  'am',\n",
       "  'among',\n",
       "  'amongst',\n",
       "  'amoungst',\n",
       "  'amount',\n",
       "  'an',\n",
       "  'and',\n",
       "  'ani',\n",
       "  'anoth',\n",
       "  'anyhow',\n",
       "  'anyon',\n",
       "  'anyth',\n",
       "  'anyway',\n",
       "  'anywher',\n",
       "  'are',\n",
       "  'around',\n",
       "  'as',\n",
       "  'at',\n",
       "  'back',\n",
       "  'be',\n",
       "  'becam',\n",
       "  'becaus',\n",
       "  'becom',\n",
       "  'been',\n",
       "  'befor',\n",
       "  'beforehand',\n",
       "  'behind',\n",
       "  'below',\n",
       "  'besid',\n",
       "  'between',\n",
       "  'beyond',\n",
       "  'bill',\n",
       "  'both',\n",
       "  'bottom',\n",
       "  'but',\n",
       "  'by',\n",
       "  'call',\n",
       "  'can',\n",
       "  'cannot',\n",
       "  'cant',\n",
       "  'co',\n",
       "  'con',\n",
       "  'could',\n",
       "  'couldnt',\n",
       "  'cri',\n",
       "  'de',\n",
       "  'describ',\n",
       "  'detail',\n",
       "  'do',\n",
       "  'done',\n",
       "  'down',\n",
       "  'due',\n",
       "  'dure',\n",
       "  'each',\n",
       "  'eg',\n",
       "  'eight',\n",
       "  'either',\n",
       "  'eleven',\n",
       "  'els',\n",
       "  'elsewher',\n",
       "  'empti',\n",
       "  'enough',\n",
       "  'etc',\n",
       "  'even',\n",
       "  'ever',\n",
       "  'everi',\n",
       "  'everyon',\n",
       "  'everyth',\n",
       "  'everywher',\n",
       "  'except',\n",
       "  'few',\n",
       "  'fifteen',\n",
       "  'fifti',\n",
       "  'fill',\n",
       "  'find',\n",
       "  'fire',\n",
       "  'first',\n",
       "  'five',\n",
       "  'for',\n",
       "  'former',\n",
       "  'formerli',\n",
       "  'forti',\n",
       "  'found',\n",
       "  'four',\n",
       "  'from',\n",
       "  'front',\n",
       "  'full',\n",
       "  'further',\n",
       "  'get',\n",
       "  'give',\n",
       "  'go',\n",
       "  'ha',\n",
       "  'had',\n",
       "  'hasnt',\n",
       "  'have',\n",
       "  'he',\n",
       "  'henc',\n",
       "  'her',\n",
       "  'here',\n",
       "  'hereaft',\n",
       "  'herebi',\n",
       "  'herein',\n",
       "  'hereupon',\n",
       "  'herself',\n",
       "  'hi',\n",
       "  'him',\n",
       "  'himself',\n",
       "  'how',\n",
       "  'howev',\n",
       "  'hundr',\n",
       "  'ie',\n",
       "  'if',\n",
       "  'in',\n",
       "  'inc',\n",
       "  'inde',\n",
       "  'interest',\n",
       "  'into',\n",
       "  'is',\n",
       "  'it',\n",
       "  'itself',\n",
       "  'keep',\n",
       "  'last',\n",
       "  'latter',\n",
       "  'latterli',\n",
       "  'least',\n",
       "  'less',\n",
       "  'ltd',\n",
       "  'made',\n",
       "  'mani',\n",
       "  'may',\n",
       "  'me',\n",
       "  'meanwhil',\n",
       "  'might',\n",
       "  'mill',\n",
       "  'mine',\n",
       "  'more',\n",
       "  'moreov',\n",
       "  'most',\n",
       "  'mostli',\n",
       "  'move',\n",
       "  'much',\n",
       "  'must',\n",
       "  'my',\n",
       "  'myself',\n",
       "  'name',\n",
       "  'neither',\n",
       "  'never',\n",
       "  'nevertheless',\n",
       "  'next',\n",
       "  'nine',\n",
       "  'no',\n",
       "  'nobodi',\n",
       "  'none',\n",
       "  'noon',\n",
       "  'nor',\n",
       "  'not',\n",
       "  'noth',\n",
       "  'now',\n",
       "  'nowher',\n",
       "  'of',\n",
       "  'off',\n",
       "  'often',\n",
       "  'on',\n",
       "  'onc',\n",
       "  'one',\n",
       "  'onli',\n",
       "  'onto',\n",
       "  'or',\n",
       "  'other',\n",
       "  'otherwis',\n",
       "  'our',\n",
       "  'ourselv',\n",
       "  'out',\n",
       "  'over',\n",
       "  'own',\n",
       "  'part',\n",
       "  'per',\n",
       "  'perhap',\n",
       "  'pleas',\n",
       "  'put',\n",
       "  'rather',\n",
       "  're',\n",
       "  'same',\n",
       "  'see',\n",
       "  'seem',\n",
       "  'seriou',\n",
       "  'sever',\n",
       "  'she',\n",
       "  'should',\n",
       "  'show',\n",
       "  'side',\n",
       "  'sinc',\n",
       "  'sincer',\n",
       "  'six',\n",
       "  'sixti',\n",
       "  'so',\n",
       "  'some',\n",
       "  'somehow',\n",
       "  'someon',\n",
       "  'someth',\n",
       "  'sometim',\n",
       "  'somewher',\n",
       "  'still',\n",
       "  'such',\n",
       "  'system',\n",
       "  'take',\n",
       "  'ten',\n",
       "  'than',\n",
       "  'that',\n",
       "  'the',\n",
       "  'their',\n",
       "  'them',\n",
       "  'themselv',\n",
       "  'then',\n",
       "  'thenc',\n",
       "  'there',\n",
       "  'thereaft',\n",
       "  'therebi',\n",
       "  'therefor',\n",
       "  'therein',\n",
       "  'thereupon',\n",
       "  'these',\n",
       "  'they',\n",
       "  'thi',\n",
       "  'thick',\n",
       "  'thin',\n",
       "  'third',\n",
       "  'those',\n",
       "  'though',\n",
       "  'three',\n",
       "  'through',\n",
       "  'throughout',\n",
       "  'thru',\n",
       "  'thu',\n",
       "  'to',\n",
       "  'togeth',\n",
       "  'too',\n",
       "  'top',\n",
       "  'toward',\n",
       "  'twelv',\n",
       "  'twenti',\n",
       "  'two',\n",
       "  'un',\n",
       "  'under',\n",
       "  'until',\n",
       "  'up',\n",
       "  'upon',\n",
       "  'us',\n",
       "  'veri',\n",
       "  'via',\n",
       "  'wa',\n",
       "  'we',\n",
       "  'well',\n",
       "  'were',\n",
       "  'what',\n",
       "  'whatev',\n",
       "  'when',\n",
       "  'whenc',\n",
       "  'whenev',\n",
       "  'where',\n",
       "  'wherea',\n",
       "  'whereaft',\n",
       "  'wherebi',\n",
       "  'wherein',\n",
       "  'whereupon',\n",
       "  'wherev',\n",
       "  'whether',\n",
       "  'whi',\n",
       "  'which',\n",
       "  'while',\n",
       "  'whither',\n",
       "  'who',\n",
       "  'whoever',\n",
       "  'whole',\n",
       "  'whom',\n",
       "  'whose',\n",
       "  'will',\n",
       "  'with',\n",
       "  'within',\n",
       "  'without',\n",
       "  'would',\n",
       "  'yet',\n",
       "  'you',\n",
       "  'your',\n",
       "  'yourself',\n",
       "  'yourselv'}}"
      ]
     },
     "execution_count": 68,
     "metadata": {},
     "output_type": "execute_result"
    }
   ],
   "source": [
    "gs_tvec_knn.best_params_"
   ]
  },
  {
   "cell_type": "code",
   "execution_count": 69,
   "metadata": {},
   "outputs": [
    {
     "name": "stdout",
     "output_type": "stream",
     "text": [
      "TFIDF Vectorizer & k-Nearest Neighbors\n",
      "Train Accuracy: 0.7662222222222222\n",
      "Test Accuracy: 0.706\n"
     ]
    }
   ],
   "source": [
    "print('TFIDF Vectorizer & k-Nearest Neighbors')\n",
    "print('Train Accuracy:',\n",
    "      model_tvec_knn.score(X_train, y_train))\n",
    "print('Test Accuracy:',\n",
    "      model_tvec_knn.score(X_test, y_test))"
   ]
  },
  {
   "cell_type": "markdown",
   "metadata": {},
   "source": [
    "The kNN model did not perform well, with a test accuracy worse than even that of the logistic regression. "
   ]
  },
  {
   "cell_type": "code",
   "execution_count": 70,
   "metadata": {},
   "outputs": [
    {
     "data": {
      "text/plain": [
       "array([[574, 176],\n",
       "       [265, 485]], dtype=int64)"
      ]
     },
     "execution_count": 70,
     "metadata": {},
     "output_type": "execute_result"
    }
   ],
   "source": [
    "yh_test = model_tvec_knn.predict(X_test)\n",
    "confusion_matrix(y_test, yh_test)\n",
    "\n",
    "#    pf pt\n",
    "# af tn fp\n",
    "# at fn tp"
   ]
  },
  {
   "cell_type": "markdown",
   "metadata": {},
   "source": [
    "This model was drastically more likely to predict non-UK."
   ]
  },
  {
   "cell_type": "markdown",
   "metadata": {},
   "source": [
    "###  Bagged Trees Model\n",
    "\n",
    "A bagging ensemble model runs numerous models on bootstraps and then aggregates their independent predictions. We will use a bagging model based on decision trees."
   ]
  },
  {
   "cell_type": "code",
   "execution_count": 71,
   "metadata": {},
   "outputs": [
    {
     "name": "stdout",
     "output_type": "stream",
     "text": [
      "Wall time: 1min 50s\n"
     ]
    }
   ],
   "source": [
    "pipe_cvec_bdt_params = {\n",
    "    'vec__ngram_range':((1,1),(1,2)),\n",
    "    'vec__stop_words':(None,stops),\n",
    "    'vec__max_features': [500,1000],\n",
    "    'bdt__n_estimators': [10]\n",
    "}\n",
    "\n",
    "pipe_cvec_bdt = Pipeline([\n",
    "    ('vec', CountVectorizer()),\n",
    "    ('bdt', BaggingClassifier(n_jobs=-2))\n",
    "])\n",
    "\n",
    "\n",
    "gs_cvec_bdt = GridSearchCV(pipe_cvec_bdt, pipe_cvec_bdt_params, \n",
    "                           cv=cv_times)\n",
    "%time gs_cvec_bdt.fit(X_train, y_train)\n",
    "model_cvec_bdt = gs_cvec_bdt.best_estimator_"
   ]
  },
  {
   "cell_type": "code",
   "execution_count": 72,
   "metadata": {},
   "outputs": [
    {
     "data": {
      "text/plain": [
       "{'bdt__n_estimators': 10,\n",
       " 'vec__max_features': 1000,\n",
       " 'vec__ngram_range': (1, 1),\n",
       " 'vec__stop_words': {'',\n",
       "  'about',\n",
       "  'abov',\n",
       "  'across',\n",
       "  'after',\n",
       "  'afterward',\n",
       "  'again',\n",
       "  'against',\n",
       "  'all',\n",
       "  'almost',\n",
       "  'alon',\n",
       "  'along',\n",
       "  'alreadi',\n",
       "  'also',\n",
       "  'although',\n",
       "  'alway',\n",
       "  'am',\n",
       "  'among',\n",
       "  'amongst',\n",
       "  'amoungst',\n",
       "  'amount',\n",
       "  'an',\n",
       "  'and',\n",
       "  'ani',\n",
       "  'anoth',\n",
       "  'anyhow',\n",
       "  'anyon',\n",
       "  'anyth',\n",
       "  'anyway',\n",
       "  'anywher',\n",
       "  'are',\n",
       "  'around',\n",
       "  'as',\n",
       "  'at',\n",
       "  'back',\n",
       "  'be',\n",
       "  'becam',\n",
       "  'becaus',\n",
       "  'becom',\n",
       "  'been',\n",
       "  'befor',\n",
       "  'beforehand',\n",
       "  'behind',\n",
       "  'below',\n",
       "  'besid',\n",
       "  'between',\n",
       "  'beyond',\n",
       "  'bill',\n",
       "  'both',\n",
       "  'bottom',\n",
       "  'but',\n",
       "  'by',\n",
       "  'call',\n",
       "  'can',\n",
       "  'cannot',\n",
       "  'cant',\n",
       "  'co',\n",
       "  'con',\n",
       "  'could',\n",
       "  'couldnt',\n",
       "  'cri',\n",
       "  'de',\n",
       "  'describ',\n",
       "  'detail',\n",
       "  'do',\n",
       "  'done',\n",
       "  'down',\n",
       "  'due',\n",
       "  'dure',\n",
       "  'each',\n",
       "  'eg',\n",
       "  'eight',\n",
       "  'either',\n",
       "  'eleven',\n",
       "  'els',\n",
       "  'elsewher',\n",
       "  'empti',\n",
       "  'enough',\n",
       "  'etc',\n",
       "  'even',\n",
       "  'ever',\n",
       "  'everi',\n",
       "  'everyon',\n",
       "  'everyth',\n",
       "  'everywher',\n",
       "  'except',\n",
       "  'few',\n",
       "  'fifteen',\n",
       "  'fifti',\n",
       "  'fill',\n",
       "  'find',\n",
       "  'fire',\n",
       "  'first',\n",
       "  'five',\n",
       "  'for',\n",
       "  'former',\n",
       "  'formerli',\n",
       "  'forti',\n",
       "  'found',\n",
       "  'four',\n",
       "  'from',\n",
       "  'front',\n",
       "  'full',\n",
       "  'further',\n",
       "  'get',\n",
       "  'give',\n",
       "  'go',\n",
       "  'ha',\n",
       "  'had',\n",
       "  'hasnt',\n",
       "  'have',\n",
       "  'he',\n",
       "  'henc',\n",
       "  'her',\n",
       "  'here',\n",
       "  'hereaft',\n",
       "  'herebi',\n",
       "  'herein',\n",
       "  'hereupon',\n",
       "  'herself',\n",
       "  'hi',\n",
       "  'him',\n",
       "  'himself',\n",
       "  'how',\n",
       "  'howev',\n",
       "  'hundr',\n",
       "  'ie',\n",
       "  'if',\n",
       "  'in',\n",
       "  'inc',\n",
       "  'inde',\n",
       "  'interest',\n",
       "  'into',\n",
       "  'is',\n",
       "  'it',\n",
       "  'itself',\n",
       "  'keep',\n",
       "  'last',\n",
       "  'latter',\n",
       "  'latterli',\n",
       "  'least',\n",
       "  'less',\n",
       "  'ltd',\n",
       "  'made',\n",
       "  'mani',\n",
       "  'may',\n",
       "  'me',\n",
       "  'meanwhil',\n",
       "  'might',\n",
       "  'mill',\n",
       "  'mine',\n",
       "  'more',\n",
       "  'moreov',\n",
       "  'most',\n",
       "  'mostli',\n",
       "  'move',\n",
       "  'much',\n",
       "  'must',\n",
       "  'my',\n",
       "  'myself',\n",
       "  'name',\n",
       "  'neither',\n",
       "  'never',\n",
       "  'nevertheless',\n",
       "  'next',\n",
       "  'nine',\n",
       "  'no',\n",
       "  'nobodi',\n",
       "  'none',\n",
       "  'noon',\n",
       "  'nor',\n",
       "  'not',\n",
       "  'noth',\n",
       "  'now',\n",
       "  'nowher',\n",
       "  'of',\n",
       "  'off',\n",
       "  'often',\n",
       "  'on',\n",
       "  'onc',\n",
       "  'one',\n",
       "  'onli',\n",
       "  'onto',\n",
       "  'or',\n",
       "  'other',\n",
       "  'otherwis',\n",
       "  'our',\n",
       "  'ourselv',\n",
       "  'out',\n",
       "  'over',\n",
       "  'own',\n",
       "  'part',\n",
       "  'per',\n",
       "  'perhap',\n",
       "  'pleas',\n",
       "  'put',\n",
       "  'rather',\n",
       "  're',\n",
       "  'same',\n",
       "  'see',\n",
       "  'seem',\n",
       "  'seriou',\n",
       "  'sever',\n",
       "  'she',\n",
       "  'should',\n",
       "  'show',\n",
       "  'side',\n",
       "  'sinc',\n",
       "  'sincer',\n",
       "  'six',\n",
       "  'sixti',\n",
       "  'so',\n",
       "  'some',\n",
       "  'somehow',\n",
       "  'someon',\n",
       "  'someth',\n",
       "  'sometim',\n",
       "  'somewher',\n",
       "  'still',\n",
       "  'such',\n",
       "  'system',\n",
       "  'take',\n",
       "  'ten',\n",
       "  'than',\n",
       "  'that',\n",
       "  'the',\n",
       "  'their',\n",
       "  'them',\n",
       "  'themselv',\n",
       "  'then',\n",
       "  'thenc',\n",
       "  'there',\n",
       "  'thereaft',\n",
       "  'therebi',\n",
       "  'therefor',\n",
       "  'therein',\n",
       "  'thereupon',\n",
       "  'these',\n",
       "  'they',\n",
       "  'thi',\n",
       "  'thick',\n",
       "  'thin',\n",
       "  'third',\n",
       "  'those',\n",
       "  'though',\n",
       "  'three',\n",
       "  'through',\n",
       "  'throughout',\n",
       "  'thru',\n",
       "  'thu',\n",
       "  'to',\n",
       "  'togeth',\n",
       "  'too',\n",
       "  'top',\n",
       "  'toward',\n",
       "  'twelv',\n",
       "  'twenti',\n",
       "  'two',\n",
       "  'un',\n",
       "  'under',\n",
       "  'until',\n",
       "  'up',\n",
       "  'upon',\n",
       "  'us',\n",
       "  'veri',\n",
       "  'via',\n",
       "  'wa',\n",
       "  'we',\n",
       "  'well',\n",
       "  'were',\n",
       "  'what',\n",
       "  'whatev',\n",
       "  'when',\n",
       "  'whenc',\n",
       "  'whenev',\n",
       "  'where',\n",
       "  'wherea',\n",
       "  'whereaft',\n",
       "  'wherebi',\n",
       "  'wherein',\n",
       "  'whereupon',\n",
       "  'wherev',\n",
       "  'whether',\n",
       "  'whi',\n",
       "  'which',\n",
       "  'while',\n",
       "  'whither',\n",
       "  'who',\n",
       "  'whoever',\n",
       "  'whole',\n",
       "  'whom',\n",
       "  'whose',\n",
       "  'will',\n",
       "  'with',\n",
       "  'within',\n",
       "  'without',\n",
       "  'would',\n",
       "  'yet',\n",
       "  'you',\n",
       "  'your',\n",
       "  'yourself',\n",
       "  'yourselv'}}"
      ]
     },
     "execution_count": 72,
     "metadata": {},
     "output_type": "execute_result"
    }
   ],
   "source": [
    "gs_cvec_bdt.best_params_"
   ]
  },
  {
   "cell_type": "code",
   "execution_count": 73,
   "metadata": {},
   "outputs": [
    {
     "name": "stdout",
     "output_type": "stream",
     "text": [
      "CountVectorizer & Bagged Decision Trees\n",
      "Train Accuracy: 0.984\n",
      "Test Accuracy: 0.7573333333333333\n"
     ]
    }
   ],
   "source": [
    "print('CountVectorizer & Bagged Decision Trees')\n",
    "print('Train Accuracy:',\n",
    "      model_cvec_bdt.score(X_train, y_train))\n",
    "print('Test Accuracy:',\n",
    "      model_cvec_bdt.score(X_test, y_test))"
   ]
  },
  {
   "cell_type": "markdown",
   "metadata": {},
   "source": [
    "The Bagged Decision Trees model underperformed, with an accuracy of about 76%, and was very overfit."
   ]
  },
  {
   "cell_type": "code",
   "execution_count": 74,
   "metadata": {},
   "outputs": [
    {
     "data": {
      "text/plain": [
       "array([[622, 128],\n",
       "       [236, 514]], dtype=int64)"
      ]
     },
     "execution_count": 74,
     "metadata": {},
     "output_type": "execute_result"
    }
   ],
   "source": [
    "yh_test = model_cvec_bdt.predict(X_test)\n",
    "confusion_matrix(y_test, yh_test)\n",
    "\n",
    "#    pf pt\n",
    "# af tn fp\n",
    "# at fn tp"
   ]
  },
  {
   "cell_type": "markdown",
   "metadata": {},
   "source": [
    "This model was more likely to predict non-UK."
   ]
  },
  {
   "cell_type": "markdown",
   "metadata": {},
   "source": [
    "## Model Selection"
   ]
  },
  {
   "cell_type": "markdown",
   "metadata": {},
   "source": [
    "|Model|Vectorizer|Train Accuracy|Test Accuracy|\n",
    "|-|-|-|-|\n",
    "|Baseline|n/a|.5|.5|\n",
    "|Logistic Regression|TFIDF|.802|.767|\n",
    "|Multinomial Naive Bayes|Count|.907|.853|\n",
    "|Gaussian Naive Bayes|TFIDF|.919|.809|\n",
    "|Support Vector Machine|TFIDF|.992|.827|\n",
    "|AdaBoost|Count|.932|.801|\n",
    "|kNN|TFIDF|.766|.706|\n",
    "|Bagged Decision Trees|Count|.984|.757|"
   ]
  },
  {
   "cell_type": "markdown",
   "metadata": {},
   "source": [
    "Based on test accuracy scores alone, it is easy to pick our best model: the Multinomial Naive Bayes. Knowledge that Naive Bayes models are generally suited well for natural language processing also influences this decision, even though we know that the naive assumption of variable independence absolutely does not hold for word counts.\n",
    "\n",
    "The Support Vector Machine is interesting, and takes second place in test accuracy even as it is substantially overfit. Its usefulness on natural language data is worth remembering."
   ]
  },
  {
   "cell_type": "markdown",
   "metadata": {},
   "source": [
    "## Model Evaluation"
   ]
  },
  {
   "cell_type": "code",
   "execution_count": 75,
   "metadata": {},
   "outputs": [
    {
     "name": "stdout",
     "output_type": "stream",
     "text": [
      "CountVectorizer & Naive Bayes\n",
      "Train Accuracy: 0.9075555555555556\n",
      "Test Accuracy: 0.8526666666666667\n",
      "Test ROC AUC: 0.9260453333333333\n"
     ]
    }
   ],
   "source": [
    "print('CountVectorizer & Naive Bayes')\n",
    "print('Train Accuracy:',\n",
    "      model_cvec_bayes.score(X_train, y_train))\n",
    "print('Test Accuracy:',\n",
    "      model_cvec_bayes.score(X_test, y_test))\n",
    "print('Test ROC AUC:', roc_auc_score(\n",
    "    y_test, model_cvec_bayes.predict_proba(X_test)[:,1]))"
   ]
  },
  {
   "cell_type": "markdown",
   "metadata": {},
   "source": [
    "The Multinomial Naive Bayes model has a respectable, though far from perfect, 85% accuracy on test data. It also has an ROC AUC of 93%, suggesting that its probability predictions are of useful quality. It was not designed to be inferential, but it is an effective predictor."
   ]
  },
  {
   "cell_type": "code",
   "execution_count": 76,
   "metadata": {},
   "outputs": [
    {
     "data": {
      "text/plain": [
       "array([[655,  95],\n",
       "       [126, 624]], dtype=int64)"
      ]
     },
     "execution_count": 76,
     "metadata": {},
     "output_type": "execute_result"
    }
   ],
   "source": [
    "confusion_matrix(y_test, yh_final)\n",
    "#    pf pt\n",
    "# af tn fp\n",
    "# at fn tp"
   ]
  },
  {
   "cell_type": "markdown",
   "metadata": {},
   "source": [
    "Curiously, almost every model, including the Multinomial Naive Bayes, was more likely to predict r/legaladvice than r/LegalAdviceUK on a test set in which the two were evenly split. Perhaps this is partly because r/legaladvice is a general forum that likely includes some British posters who did not know to go to the UK-specific forum."
   ]
  },
  {
   "cell_type": "code",
   "execution_count": 77,
   "metadata": {},
   "outputs": [
    {
     "data": {
      "image/png": "[encoded data removed]",
      "text/plain": [
       "<Figure size 432x288 with 1 Axes>"
      ]
     },
     "metadata": {
      "needs_background": "light"
     },
     "output_type": "display_data"
    }
   ],
   "source": [
    "# residuals plot\n",
    "yh_probs = model_cvec_bayes.predict_proba(X_test)[:,1]\n",
    "plt.hist(y_test-yh_probs,color='#555555',bins=20) # hist\n",
    "plt.axvline(np.mean(y_test-yh_probs),c='r') #mean\n",
    "plt.xlabel('Residuals')\n",
    "plt.ylabel('Counts')\n",
    "plt.title('Histogram of True Value - Predicted Probability')\n",
    "plt.savefig('../figures/residuals.png');"
   ]
  },
  {
   "cell_type": "markdown",
   "metadata": {},
   "source": [
    "'Residuals' as a concept are different for this categorical predictor than they would be for a continuous regressor. This plot mainly only shows that most predicted probabilities were close to either 0 or 1."
   ]
  },
  {
   "cell_type": "markdown",
   "metadata": {},
   "source": [
    "## Conclusions and Recommendations"
   ]
  },
  {
   "cell_type": "markdown",
   "metadata": {},
   "source": [
    "The best of the models we tested is the Multinomial Naive Bayes model, with 85% accuracy on non-training data. We expect this will extend to similar, non-Reddit data collected by LawChat, allowing the service to distinguish between UK and US users. \n",
    "\n",
    "This model could be upgraded after the hypothetical app's launch by retraining it on legitimate app data, which will hopefully remove some of the weaknesses that come from relying on Reddit data. \n",
    "\n",
    "However, 85% accuracy is far from perfect, so we would recommend that each legal expert respondent confirm that the messages forwarded to them appear to be from the correct country and be given an easy method to mark a message as for another country based on their judgement, which we expect they will need to do 15% of the time. Still, this is cheaper and preferable to having humans manually sort through every message.\n",
    "\n",
    "Additionally, we would recommend that once location data can be easily and legally collected, which is much simpler and more accurate. Text-analysis-predicted locations could be used for the few cases where that is not feasible."
   ]
  },
  {
   "cell_type": "markdown",
   "metadata": {},
   "source": [
    "## Materials Used"
   ]
  },
  {
   "cell_type": "markdown",
   "metadata": {},
   "source": [
    "- [Pushshift API](https://pushshift.io/)\n",
    "- [r/legaladvice](https://reddit.com/r/legaladvice)\n",
    "- [r/LegalAdviceUK](https://reddit.com/r/LegalAdviceUK)"
   ]
  }
 ],
 "metadata": {
  "kernelspec": {
   "display_name": "Python 3",
   "language": "python",
   "name": "python3"
  },
  "language_info": {
   "codemirror_mode": {
    "name": "ipython",
    "version": 3
   },
   "file_extension": ".py",
   "mimetype": "text/x-python",
   "name": "python",
   "nbconvert_exporter": "python",
   "pygments_lexer": "ipython3",
   "version": "3.7.6"
  }
 },
 "nbformat": 4,
 "nbformat_minor": 2
}
